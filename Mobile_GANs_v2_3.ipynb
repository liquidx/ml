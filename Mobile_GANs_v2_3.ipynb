{
  "cells": [
    {
      "cell_type": "markdown",
      "metadata": {
        "id": "view-in-github",
        "colab_type": "text"
      },
      "source": [
        "<a href=\"https://colab.research.google.com/github/liquidx/ml/blob/main/Mobile_GANs_v2_3.ipynb\" target=\"_parent\"><img src=\"https://colab.research.google.com/assets/colab-badge.svg\" alt=\"Open In Colab\"/></a>"
      ]
    },
    {
      "cell_type": "markdown",
      "metadata": {
        "id": "AoE0a1__isc-"
      },
      "source": [
        "# Mobile Screen GAN\n",
        "\n"
      ]
    },
    {
      "cell_type": "markdown",
      "source": [
        "## Introduction"
      ],
      "metadata": {
        "id": "lEAacHcMjciI"
      }
    },
    {
      "cell_type": "markdown",
      "source": [
        "\n",
        "\n",
        "This is a work in progress notebook where I'm exploring how to build a GAN. \n",
        "\n",
        "## Background\n",
        "\n",
        "At the moment, I'm a beginner with ML. I have only successfully trained a few models, and mostly relying on tutorials to learn and understand how to do it. \n",
        "\n",
        "I'll be explaining some of the choices and alternatives through out the notebook.\n",
        "\n",
        "\n",
        "## GAN Inputs & Outputs\n",
        "\n",
        "This GAN is to generate plausible mobile screenshots based on a dataset of Android screenshots from the [Rico Dataset](http://interactionmining.org/rico). Thie dataset is loaded from [Hugging Face datasets - ncoop57/rico_captions](https://huggingface.co/datasets/ncoop57/rico_captions). \n",
        "\n",
        "By changing the datasets this GAN should be generalizable to be trained by other data sets.\n",
        "\n",
        "## Based on\n",
        "\n",
        "This notebook is an amalgamation of three different DCGAN tutorials which I've liberally borrowed and learned from.\n",
        "\n",
        " * [Nicholas Renotte : Build a Generative Adversarial Neural Network with Tensorflow and Python](https://youtu.be/AALBGpLbj6Q)\n",
        "   \n",
        "   The initial version was based entirely on the video, except that I made modifications to extend the example to use a dataset from Hugging Face Datasets as well as adding an extra dimension to generate color images rather than greyscale.\n",
        "\n",
        " * [Machine Learning Mastery: How to developer a GAN for a CIFAR 10 Small Object Photographs from scratch](https://machinelearningmastery.com/how-to-develop-a-generative-adversarial-network-for-a-cifar-10-small-object-photographs-from-scratch/)\n",
        "   \n",
        "   This tutorial takes a quite different approach to the above tutorial. I ended moving to this more modern model structure and training loop from this rather than the back propogation (via GradientTape). The GradientTape manual back propogation seemed to be harder to get right for me.\n",
        "\n",
        " * [TensorFlow Deep Convolutional GAN Tutorial](https://www.tensorflow.org/tutorials/generative/dcgan)\n",
        "\n",
        "   This tutorial is quite clear, but very similar to the Machine Learning Mastery one. The difference is the training step is using `@tf.function`, which I still don't quite understand and using the back-propagation using `GradientTape` to manually apply the gradients from the losses back into the optimizer. I need to investigate that technique more. This tutorial was quite helpful to introduce checkpointing using `tf.training.Checkpoint` which is crucial because of how long GANs need to train for.\n",
        "\n"
      ],
      "metadata": {
        "id": "7qat-o1tjagZ"
      }
    },
    {
      "cell_type": "markdown",
      "metadata": {
        "id": "KvKUwYJrGP57"
      },
      "source": [
        "## 1 Dependencies"
      ]
    },
    {
      "cell_type": "code",
      "execution_count": 1,
      "metadata": {
        "id": "m2MzHA_t7OgO",
        "colab": {
          "base_uri": "https://localhost:8080/"
        },
        "outputId": "bbc7d300-b176-4b83-f7a1-71c0ebd3574e"
      },
      "outputs": [
        {
          "output_type": "stream",
          "name": "stdout",
          "text": [
            "\u001b[K     |████████████████████████████████| 365 kB 8.8 MB/s \n",
            "\u001b[K     |████████████████████████████████| 4.7 MB 71.7 MB/s \n",
            "\u001b[K     |████████████████████████████████| 235 kB 60.2 MB/s \n",
            "\u001b[K     |████████████████████████████████| 212 kB 77.3 MB/s \n",
            "\u001b[K     |████████████████████████████████| 115 kB 77.7 MB/s \n",
            "\u001b[K     |████████████████████████████████| 141 kB 73.9 MB/s \n",
            "\u001b[K     |████████████████████████████████| 101 kB 13.6 MB/s \n",
            "\u001b[K     |████████████████████████████████| 596 kB 72.5 MB/s \n",
            "\u001b[K     |████████████████████████████████| 127 kB 68.7 MB/s \n",
            "\u001b[K     |████████████████████████████████| 6.6 MB 6.1 MB/s \n",
            "\u001b[K     |████████████████████████████████| 51 kB 6.0 MB/s \n",
            "\u001b[?25h"
          ]
        }
      ],
      "source": [
        "!pip -q install datasets transformers pillow rich "
      ]
    },
    {
      "cell_type": "code",
      "execution_count": 2,
      "metadata": {
        "id": "W_ecZpRI7lgh"
      },
      "outputs": [],
      "source": [
        "import os\n",
        "import numpy as np\n",
        "import PIL\n",
        "import PIL.Image\n",
        "import pathlib\n",
        "import pickle \n",
        "import time\n",
        "\n",
        "from IPython import display\n",
        "import matplotlib.pyplot as plt\n",
        "import tensorflow as tf\n",
        "from tensorflow.keras.utils import image_dataset_from_directory\n",
        "\n",
        "from datasets import load_dataset\n",
        "from datasets import Image\n",
        "from rich import inspect\n",
        "from transformers import DataCollatorWithPadding\n"
      ]
    },
    {
      "cell_type": "code",
      "execution_count": 3,
      "metadata": {
        "id": "sVQa0PqNy-hJ"
      },
      "outputs": [],
      "source": [
        "# Dependencies for Model\n",
        "from tensorflow.keras.models import Sequential\n",
        "from tensorflow.keras.layers import Conv2D, Dense, Flatten, Reshape, LeakyReLU, Dropout, UpSampling2D, Conv2DTranspose, BatchNormalization\n",
        "from tensorflow.keras.optimizers import Adam\n",
        "from tensorflow.keras.losses import BinaryCrossentropy\n",
        "from tensorflow.keras.models import load_model\n",
        "\n",
        "# For subclassing\n",
        "from tensorflow.keras.models import Model\n",
        "# For ModelMonitor Callback\n",
        "from tensorflow.keras.preprocessing.image import array_to_img\n",
        "from tensorflow.keras.callbacks import Callback\n"
      ]
    },
    {
      "cell_type": "markdown",
      "source": [
        "Google Colab specific initialization. This noteboook stores all checkpoints and results in Google Drive to avoid issues when the runtime is disconnected."
      ],
      "metadata": {
        "id": "5KMRp3l7jsFe"
      }
    },
    {
      "cell_type": "code",
      "execution_count": 4,
      "metadata": {
        "id": "mG3_AozjcDSN"
      },
      "outputs": [],
      "source": [
        "HAS_COLAB = False\n",
        "try:\n",
        "  import google.colab\n",
        "  HAS_COLAB = True\n",
        "except ImportError:\n",
        "  pass\n"
      ]
    },
    {
      "cell_type": "code",
      "execution_count": 5,
      "metadata": {
        "colab": {
          "base_uri": "https://localhost:8080/"
        },
        "id": "U685Wyakcw2U",
        "outputId": "d60d8489-b118-41ab-bb35-99c9d33d61f8"
      },
      "outputs": [
        {
          "output_type": "stream",
          "name": "stdout",
          "text": [
            "Mounted at /content/drive\n"
          ]
        }
      ],
      "source": [
        "CHECKPOINTS_DIR = './checkpoints'\n",
        "if HAS_COLAB:\n",
        "  google.colab.drive.mount('/content/drive')\n",
        "  CHECKPOINTS_DIR = '/content/drive/MyDrive/ML/checkpoints/mobilegan'\n"
      ]
    },
    {
      "cell_type": "markdown",
      "metadata": {
        "id": "9QKjpUNPGVgY"
      },
      "source": [
        "## 2 Initialize"
      ]
    },
    {
      "cell_type": "markdown",
      "source": [
        "### Confirm GPUs\n",
        "\n",
        "Confirm that there are some GPUs and the settings are set correctly so they don't run out of memory."
      ],
      "metadata": {
        "id": "lbk0yaK1j7Dr"
      }
    },
    {
      "cell_type": "code",
      "execution_count": 6,
      "metadata": {
        "colab": {
          "base_uri": "https://localhost:8080/"
        },
        "id": "lrxUAF7Wlb-5",
        "outputId": "974dc223-7533-481d-b1a7-fdbecbb03ec2"
      },
      "outputs": [
        {
          "output_type": "execute_result",
          "data": {
            "text/plain": [
              "[PhysicalDevice(name='/physical_device:GPU:0', device_type='GPU')]"
            ]
          },
          "metadata": {},
          "execution_count": 6
        }
      ],
      "source": [
        "# Bringing in tensorflow\n",
        "gpus = tf.config.experimental.list_physical_devices('GPU')\n",
        "for gpu in gpus: \n",
        "    tf.config.experimental.set_memory_growth(gpu, True)\n",
        "gpus    "
      ]
    },
    {
      "cell_type": "markdown",
      "source": [
        "### Global training parameters"
      ],
      "metadata": {
        "id": "vL7M0SGPkC8C"
      }
    },
    {
      "cell_type": "code",
      "execution_count": 7,
      "metadata": {
        "id": "7ruUEzkWld_T"
      },
      "outputs": [],
      "source": [
        "DEFAULT_RNG_SEED = 123  # Unused?\n",
        "\n",
        "IMAGE_SIZE = (64, 32)\n",
        "\n",
        "BATCH_SIZE = 128\n",
        "BUFFER_SIZE = 50000 # Unused if loading from images_from_dir\n",
        "PREFETCH_SIZE = 64 # Unused if loading frim images_from_dir\n",
        "\n",
        "LATENT_DIM = 128\n"
      ]
    },
    {
      "cell_type": "markdown",
      "metadata": {
        "id": "nHmcNSuBGZLC"
      },
      "source": [
        "## 3 Load Dataset"
      ]
    },
    {
      "cell_type": "markdown",
      "source": [
        "### Load the dataset from Hugging Face Datasets. \n",
        "\n",
        "`rico_dataset` is only used to get the path to the `screenshot_dir` using the `screenshot_path` of the first row\n",
        "\n",
        "The files are stored in `/root/.huggingface/...` \n"
      ],
      "metadata": {
        "id": "_qAMVK25mAUb"
      }
    },
    {
      "cell_type": "code",
      "execution_count": 8,
      "metadata": {
        "colab": {
          "base_uri": "https://localhost:8080/",
          "height": 155,
          "referenced_widgets": [
            "81179f5372b84bdb985adfa5fb128605",
            "6abb49ae3b404c2cb390ccc0024de6f8",
            "bbeb75004007475f940dbe49ea0c4dca",
            "20adc704f5c2443bbd5e5d59cf611f80",
            "c99b0f11a1974b268e70c43b33ae8bed",
            "7056603351074485a95d3d330b9f3457",
            "a5b49679effd40fb8524841b8d91d151",
            "2ffb8f4f47644eeaac9c748ae75427cd",
            "833b75c463d744e8bcc918e82c18f873",
            "e5e27158f3eb4eb498817094384f4786",
            "96b315d9459a46709f61a92fa7c6d3df",
            "22cc3a5ec1704d0f9e59a4241396281d",
            "acd1d74aecb0454eb76e35445f7a58de",
            "cf13ef69c16947c1bbe579ad4f8fc1c1",
            "fc20c724a5d94b8ea274a5c0cf9fc883",
            "35fb86b79f7e4718874126630cd33198",
            "4c08d825dd4f4d9dbce92ca523e2499e",
            "53fbda2b18914ecfaa5109493d5a8d58",
            "3c2465b9b79443f189d5b14fb66fb01e",
            "b72cc10028a2499a91a9f24eac0a7d7c",
            "d3adfdc55eb14ccdb14e6b0529b81747",
            "dff20bb687904dc38f3a4f5089de1b77",
            "dd702ba428fe448d96629fc9032ba291",
            "c8fc8a2039364fd082777070bc5c9d87",
            "0b36119936bb40929eb2b384cb90dde9",
            "37b88a22dc57483ba08b004a814b10ce",
            "4398966b09c046ac8e78f0d692ee7382",
            "aa08057e305048cf8f9c5d41d85c8fa0",
            "ab5364e667bb41df88d1765bd7f8af41",
            "dd3ef2dea5384abbb4509f6d4c37c358",
            "3043d830296e4be787f006f414d928a8",
            "1eea6494cc16414fb08eeed23189cd7f",
            "e561f7e526fb495c97c41e1175877abc"
          ]
        },
        "id": "HljPAQyV7tFQ",
        "outputId": "49c9af58-ce86-4b32-b23f-16ccb8bc6dc7"
      },
      "outputs": [
        {
          "output_type": "display_data",
          "data": {
            "text/plain": [
              "Downloading builder script:   0%|          | 0.00/6.52k [00:00<?, ?B/s]"
            ],
            "application/vnd.jupyter.widget-view+json": {
              "version_major": 2,
              "version_minor": 0,
              "model_id": "81179f5372b84bdb985adfa5fb128605"
            }
          },
          "metadata": {}
        },
        {
          "output_type": "stream",
          "name": "stderr",
          "text": [
            "WARNING:datasets.builder:No config specified, defaulting to: rico_captions/screenshots_captions_filtered\n"
          ]
        },
        {
          "output_type": "stream",
          "name": "stdout",
          "text": [
            "Downloading and preparing dataset rico_captions/screenshots_captions_filtered to /root/.cache/huggingface/datasets/ncoop57___rico_captions/screenshots_captions_filtered/1.1.0/6cc0546713955bddd15fe67b51242fc34d6aed4607c7d267d80f83204506db1e...\n"
          ]
        },
        {
          "output_type": "display_data",
          "data": {
            "text/plain": [
              "Downloading data:   0%|          | 0.00/2.14G [00:00<?, ?B/s]"
            ],
            "application/vnd.jupyter.widget-view+json": {
              "version_major": 2,
              "version_minor": 0,
              "model_id": "22cc3a5ec1704d0f9e59a4241396281d"
            }
          },
          "metadata": {}
        },
        {
          "output_type": "display_data",
          "data": {
            "text/plain": [
              "Generating train split: 0 examples [00:00, ? examples/s]"
            ],
            "application/vnd.jupyter.widget-view+json": {
              "version_major": 2,
              "version_minor": 0,
              "model_id": "dd702ba428fe448d96629fc9032ba291"
            }
          },
          "metadata": {}
        },
        {
          "output_type": "stream",
          "name": "stdout",
          "text": [
            "Dataset rico_captions downloaded and prepared to /root/.cache/huggingface/datasets/ncoop57___rico_captions/screenshots_captions_filtered/1.1.0/6cc0546713955bddd15fe67b51242fc34d6aed4607c7d267d80f83204506db1e. Subsequent calls will reuse this data.\n"
          ]
        }
      ],
      "source": [
        "rico_dataset = load_dataset(\"ncoop57/rico_captions\", split=\"train\")\n"
      ]
    },
    {
      "cell_type": "markdown",
      "source": [
        "### Load Images & Normalize\n",
        "\n"
      ],
      "metadata": {
        "id": "frYNTQVFn6EG"
      }
    },
    {
      "cell_type": "code",
      "execution_count": 15,
      "metadata": {
        "id": "tCwmX4yt75oH"
      },
      "outputs": [],
      "source": [
        "def scale_image_unit(img):\n",
        "  \"\"\"Convert numpy image data from [-1,1] to [0,1] range.\"\"\"\n",
        "  return img / 2 + 0.5\n",
        "\n",
        "def scale_images_to_minus_plus_one(image):\n",
        "  \"\"\"Normalize RGB values to -1 to -1\"\"\"\n",
        "  return (image - 127.5) / 127.5\n",
        "\n",
        "def load_using_keras_dataset(dirname):\n",
        "  \"\"\"\n",
        "  This will already do batching/shuffling/prefetch\n",
        "  https://github.com/keras-team/keras/blob/v2.9.0/keras/utils/image_dataset.py#L29-L235\n",
        "  \"\"\"\n",
        "  ds = image_dataset_from_directory(dirname, \n",
        "                                    labels=None,\n",
        "                                    color_mode=\"rgb\",\n",
        "                                    shuffle=True,\n",
        "                                    image_size=IMAGE_SIZE,\n",
        "                                    batch_size=BATCH_SIZE)\n",
        "  return ds.map(scale_images_to_minus_plus_one)\n",
        "  "
      ]
    },
    {
      "cell_type": "markdown",
      "source": [
        "### (Unused) Alternative way to load the data.\n",
        "\n",
        "`rico_dataset` have data rows containing a column called `screenshot_path`. I thought that I could use `rico_dataset.map()` to give it a function to load the images and have it execute lazily (when the row needed to be read). But it instead tried to load all images into memory on call, so I left it alone and used another way to load the image data."
      ],
      "metadata": {
        "id": "2mxTKIZhniJ9"
      }
    },
    {
      "cell_type": "code",
      "source": [
        "def _unused__images_dataset(rico_dataset):\n",
        "  # Convert to TensorFlow compat data set\n",
        "  rico_dataset_tf = rico_dataset.to_tf_dataset(columns=['screenshot_path'], batch_size=BATCH_SIZE, shuffle=True)\n",
        "\n",
        "  # Load images and normalize using HF Datasets\n",
        "  # This is hugely inefficient since it tries to load them all rather than only\n",
        "  # when we use them.\n",
        "  def hfd_load_image_and_normalize(row):\n",
        "    img = tf.keras.utils.load_img(row['screenshot_path'], \n",
        "                                  grayscale=False, \n",
        "                                  color_mode='rgb', \n",
        "                                  target_size=IMAGE_SIZE)\n",
        "    data = tf.keras.preprocessing.image.img_to_array(img)\n",
        "    row['image'] = data / 255.0\n",
        "    return row\n",
        "\n",
        "  return rico_dataset.map(hfd_load_image_and_normalize)\n",
        "\n",
        "\n",
        "def __unused_load_image_and_normalize(path):\n",
        "  \"\"\"Method used to load images and normalize to have values between 0-1.0.\"\"\"\n",
        "  print(path.eval())\n",
        "  img = tf.keras.utils.load_img(path, grayscale=False, color_mode='rgb', target_size=IMAGE_SIZE)\n",
        "  data = tf.keras.preprocessing.image.img_to_array(img)\n",
        "  return scale_images_to_minus_plus_one(data)\n"
      ],
      "metadata": {
        "id": "cwPPK3TCnOI7"
      },
      "execution_count": 10,
      "outputs": []
    },
    {
      "cell_type": "markdown",
      "source": [
        "### Create the image-only dataset: `ds`"
      ],
      "metadata": {
        "id": "TbMZH2-cpYQz"
      }
    },
    {
      "cell_type": "code",
      "execution_count": 11,
      "metadata": {
        "colab": {
          "base_uri": "https://localhost:8080/"
        },
        "id": "QEuYh_KMrRsM",
        "outputId": "f5e751cb-79c1-4ee3-d8fe-7e8f95d1418e"
      },
      "outputs": [
        {
          "output_type": "stream",
          "name": "stdout",
          "text": [
            "Found 24598 files belonging to 1 classes.\n"
          ]
        }
      ],
      "source": [
        "screenshot_dir = os.path.dirname(rico_dataset[0][\"screenshot_path\"])\n",
        "ds = load_using_keras_dataset(screenshot_dir)"
      ]
    },
    {
      "cell_type": "markdown",
      "source": [
        "Since ds was loaded using load_using_keras_dataset, calling `ds.take(1)` will return the first batch. The ElementSpec will be:\n",
        "\n",
        "```\n",
        "TensorSpec(shape=(None, 64, 32, 3), dtype=tf.float32, name=None)\n",
        "```\n",
        "\n",
        "The first dimension is None because what is returned is a batch. The batch can have undefined number of rows (if there are any remainders when divided by the batch size). This is normal.\n",
        "\n",
        "The second and third dimensions is the rows and cols of the image and then fourth dimension is the RGB color values (3).\n"
      ],
      "metadata": {
        "id": "YuKiLb0tofhT"
      }
    },
    {
      "cell_type": "code",
      "execution_count": 12,
      "metadata": {
        "colab": {
          "base_uri": "https://localhost:8080/"
        },
        "id": "QseOMi2YDMXU",
        "outputId": "8eebb19f-5225-494b-8644-2acb223855b7"
      },
      "outputs": [
        {
          "output_type": "execute_result",
          "data": {
            "text/plain": [
              "TensorSpec(shape=(None, 64, 32, 3), dtype=tf.float32, name=None)"
            ]
          },
          "metadata": {},
          "execution_count": 12
        }
      ],
      "source": [
        "# Verify the spec for the first batch.\n",
        "ds.take(1).element_spec"
      ]
    },
    {
      "cell_type": "markdown",
      "metadata": {
        "id": "n94QgbXgGb6B"
      },
      "source": [
        "## 4 Inspect Dataset (optional)"
      ]
    },
    {
      "cell_type": "markdown",
      "source": [
        "A quick way to visualize the data set that is in `ds`. Takes a batch, convert it to `numpy` and plots it into a matplotlib `subplots()`."
      ],
      "metadata": {
        "id": "yN9QCupjqUdu"
      }
    },
    {
      "cell_type": "code",
      "execution_count": 16,
      "metadata": {
        "colab": {
          "base_uri": "https://localhost:8080/",
          "height": 551
        },
        "id": "-s1WkVCde_eD",
        "outputId": "6e445453-afb2-4317-f507-e51911b67077"
      },
      "outputs": [
        {
          "output_type": "stream",
          "name": "stdout",
          "text": [
            "(128, 64, 32, 3)\n"
          ]
        },
        {
          "output_type": "display_data",
          "data": {
            "text/plain": [
              "<Figure size 1440x720 with 4 Axes>"
            ],
            "image/png": "[encoded data removed]"
          },
          "metadata": {
            "needs_background": "light"
          }
        }
      ],
      "source": [
        "data_iterator = ds.as_numpy_iterator()\n",
        "plot_count = 4\n",
        "fig, ax = plt.subplots(ncols=plot_count, figsize=(20, 10))\n",
        "# gets a batch (which will be batch size)\n",
        "batch = data_iterator.next()\n",
        "print(batch.shape)\n",
        "\n",
        "for i in range(plot_count):\n",
        "  ax[i].imshow(np.squeeze(scale_image_unit(batch[i])))\n"
      ]
    },
    {
      "cell_type": "markdown",
      "source": [
        "Another way to visualize the plots by using matplotlib `figure()` and `subplot()`"
      ],
      "metadata": {
        "id": "ocssqal-qgNl"
      }
    },
    {
      "cell_type": "code",
      "execution_count": 17,
      "metadata": {
        "colab": {
          "base_uri": "https://localhost:8080/",
          "height": 687
        },
        "id": "l8TxGf--9EDJ",
        "outputId": "48abd1ee-a187-4903-a645-28a926c07afb"
      },
      "outputs": [
        {
          "output_type": "display_data",
          "data": {
            "text/plain": [
              "<Figure size 1440x4320 with 3 Axes>"
            ],
            "image/png": "[encoded data removed]"
          },
          "metadata": {
            "needs_background": "light"
          }
        }
      ],
      "source": [
        "# Visualize what we've loaded\n",
        "plt.figure(figsize=(20, 60))\n",
        "for images in ds.take(1):  \n",
        "  for i in range(3):\n",
        "    ax = plt.subplot(3, 3, i + 1)\n",
        "    #plt.imshow(images[i].numpy().astype(\"uint8\"))\n",
        "    plt.imshow(scale_image_unit(images[i].numpy()))\n",
        "    plt.axis(\"off\")"
      ]
    },
    {
      "cell_type": "markdown",
      "metadata": {
        "id": "wCjCv-6VzojK"
      },
      "source": [
        "## 5 GAN Model\n",
        "\n",
        "This section the GAN model is built, including the generator and discriminator along with some functions to help use the generator by providing it with the correct latent seeds."
      ]
    },
    {
      "cell_type": "markdown",
      "metadata": {
        "id": "OqWhm_330KjO"
      },
      "source": [
        "### Image Generation"
      ]
    },
    {
      "cell_type": "markdown",
      "source": [
        "Methods to generate the generated images given the generator model."
      ],
      "metadata": {
        "id": "ijqCjSnSrNhH"
      }
    },
    {
      "cell_type": "code",
      "execution_count": 18,
      "metadata": {
        "id": "-bmYo1stxeXB"
      },
      "outputs": [],
      "source": [
        "def generate_latent_points(latent_dim, n_samples):\n",
        "\t\"\"\"Generate random points that will feed the generator.\"\"\"\n",
        "\tx_input = np.random.randn(latent_dim * n_samples)\n",
        "\t# reshape into a batch of inputs for the network\n",
        "\tx_input = x_input.reshape(n_samples, latent_dim)\n",
        "\treturn x_input\n",
        "\n",
        "def generate_fake_samples(generator_model, latent_dim, img_count):\n",
        "  \"\"\"Generate some fake sample image data for the discriminator.\"\"\"\n",
        "  seed = generate_latent_points(latent_dim, img_count)\n",
        "  # Notice `training` is set to False.\n",
        "  # This is so all layers run in inference mode (batchnorm).\n",
        "  imgs = generator_model(seed, training=False)\n",
        "  return imgs\t"
      ]
    },
    {
      "cell_type": "markdown",
      "source": [
        "Methods for showing generated images from the generator model.\n",
        "\n",
        "Both methods are available, but for exporting, `generate_and_show()` is cleaner and more scalable."
      ],
      "metadata": {
        "id": "YlEKw_kRrahn"
      }
    },
    {
      "cell_type": "code",
      "execution_count": 31,
      "metadata": {
        "id": "isIsn9fU0VFX"
      },
      "outputs": [],
      "source": [
        "def generate_and_show_subplots(g_model, latent_dim, img_count=4):\n",
        "  \"\"\"Show generated imges using plt.subplots().\"\"\"\n",
        "  imgs = generate_fake_samples(g_model, latent_dim, img_count)\n",
        "  fig, ax = plt.subplots(ncols=img_count, figsize=(20, 10))\n",
        "  for i, img in enumerate(imgs):\n",
        "    ax[i].imshow(np.squeeze(scale_image_unit(img)))\n",
        "\n",
        "def generate_and_show(g_model, latent_dim, epoch=0, rows=2, cols=4, scale=4, \n",
        "                      seed=None, output_dir=None):\n",
        "  \"\"\"\n",
        "  Show generated images using plt.figure() & plt.subplot(). \n",
        "  Optionally allow saving the results to disk.\n",
        "  \"\"\"\n",
        "  img_count = rows * cols\n",
        "  if seed is None:\n",
        "    seed = generate_latent_points(latent_dim, img_count)\n",
        "  imgs = g_model(seed, training=False)\n",
        "  fig = plt.figure(figsize=(cols * scale, rows * scale * 2))\n",
        "\n",
        "  for i in range(imgs.shape[0]):\n",
        "    plt.subplot(rows, cols, i+1)\n",
        "    plt.imshow(np.squeeze(scale_image_unit(imgs[i])))\n",
        "    plt.axis('off')\n",
        "\n",
        "  if output_dir:\n",
        "    path = os.path.join(output_dir, 'image_at_epoch_{:04d}.png'.format(epoch))\n",
        "    plt.savefig(path)\n",
        "    \n",
        "  plt.show()\n"
      ]
    },
    {
      "cell_type": "markdown",
      "source": [
        "### Checkpointing\n",
        "\n",
        "`checkpoint_models()` defines what weights and optimizer config is saved. Checkpoint will pack everything into a single file which makes it convenient to manage. All paramaters passed, when restored will be directly applied to the passed models."
      ],
      "metadata": {
        "id": "jaMD5kucsMFk"
      }
    },
    {
      "cell_type": "code",
      "execution_count": 20,
      "metadata": {
        "id": "_fBBYVJSEeX3"
      },
      "outputs": [],
      "source": [
        "def checkpoint_models(g_model, d_model, g_opt, d_opt):\n",
        "  return tf.train.Checkpoint(g_model=g_model,\n",
        "                             d_model=d_model,\n",
        "                             g_opt=g_opt,\n",
        "                             d_opt=d_opt,)\n"
      ]
    },
    {
      "cell_type": "markdown",
      "source": [
        "To keep track of the epoch and losses, we save this separatly from `tf.train.Checkpoint`. Oddly `Checkpoint` doesn't have any capability to save the training history, so we have to do it manually here."
      ],
      "metadata": {
        "id": "2yKgDgdZsi-a"
      }
    },
    {
      "cell_type": "code",
      "execution_count": 21,
      "metadata": {
        "id": "zh4QzAi8JwrA"
      },
      "outputs": [],
      "source": [
        "def save_training_history(history, history_path):\n",
        "  with open(history_path, 'wb') as f:\n",
        "    pickle.dump(history, f)\n",
        "  return history\n",
        "\n",
        "def load_training_history(history_path):\n",
        "  if os.path.exists(history_path):\n",
        "    with open(history_path, 'rb') as f:\n",
        "      return pickle.load(f)\n",
        "  else:\n",
        "    return []\n"
      ]
    },
    {
      "cell_type": "markdown",
      "metadata": {
        "id": "E_kU9LTJ0ETB"
      },
      "source": [
        "### Model Definition\n",
        "\n",
        "Model is primarily based on  [Machine Learning Mastery](https://machinelearningmastery.com/how-to-develop-a-generative-adversarial-network-for-a-cifar-10-small-object-photographs-from-scratch/) and [DCGAN Tutorial](https://www.tensorflow.org/tutorials/generative/dcgan) along with some tips from Machine Learning Mastery on optimizing GANs.\n"
      ]
    },
    {
      "cell_type": "markdown",
      "source": [
        "Adding from build_generator_v2:\n",
        "* batchnorm to stablize\n",
        "* Changing activation to tanh\n",
        "* Fix the kernel to be square"
      ],
      "metadata": {
        "id": "OuZHRT0Q0JHc"
      }
    },
    {
      "cell_type": "code",
      "source": [
        "def build_generator_v2_2(latent_dim):\n",
        "  \"\"\"\n",
        "  This generator is built to go from a `latent_dim` \n",
        "  random seed, to a 4x8, 8x16, 16x32 image.\n",
        "\n",
        "  Note that the defintion array is set up as row, col.\n",
        "  TODO: This might be a mistake??\n",
        "  \"\"\"\n",
        "  model = Sequential()\n",
        "\n",
        "  n = 256 \n",
        "  rows = 8\n",
        "  cols = 4\n",
        "  n_nodes = n * rows * cols\n",
        "\n",
        "  # First hidden layer has enough nodes to represent a low\n",
        "  # rest version of the output image.\n",
        "  model.add(Dense(n_nodes, input_dim=latent_dim))\n",
        "\n",
        "  # Batch normalization to help stablize, but sometimes it can cause issues?\n",
        "  # https://machinelearningmastery.com/how-to-train-stable-generative-adversarial-networks/\n",
        "  model.add(BatchNormalization(momentum=0.0))\n",
        "\n",
        "  # LeakyReLU is recommended over ReLU, with a alpha of 0.2\n",
        "  # https://machinelearningmastery.com/how-to-train-stable-generative-adversarial-networks/\n",
        "  model.add(LeakyReLU(alpha=0.2))\n",
        "  model.add(Reshape((rows, cols, n)))\n",
        "\n",
        "  # Upsample from 4x8 to 8x16\n",
        "  # You can use UpSampling2D + Conv2D, or use Conv2DTranspose.\n",
        "  # https://machinelearningmastery.com/upsampling-and-transpose-convolution-layers-for-generative-adversarial-networks/\n",
        "  model.add(Conv2DTranspose(n, (4, 4), strides=(2, 2), padding='same'))\n",
        "  model.add(LeakyReLU(alpha=0.2))\n",
        "\n",
        "  # Upsample from 8x16 to 16x32\n",
        "  model.add(Conv2DTranspose(n, (4, 4), strides=(2, 2), padding='same'))\n",
        "  model.add(LeakyReLU(alpha=0.2))\n",
        "\n",
        "  # Upsample from 16x32 to 32x64\n",
        "  model.add(Conv2DTranspose(n, (4, 4), strides=(2, 2), padding='same'))\n",
        "  model.add(LeakyReLU(alpha=0.2))\n",
        "\n",
        "  # Output layer\n",
        "  # Using tanh as the activation is the best for GANs\n",
        "  # https://machinelearningmastery.com/how-to-train-stable-generative-adversarial-networks/\n",
        "  #\n",
        "  # Note: tanh is returning values in the range [-1, 1]\n",
        "  model.add(Conv2D(3, (3,3), activation='tanh', padding='same'))\n",
        "  return model\n"
      ],
      "metadata": {
        "id": "SiwgPbD-0ILY"
      },
      "execution_count": 25,
      "outputs": []
    },
    {
      "cell_type": "code",
      "execution_count": 26,
      "metadata": {
        "id": "SivFx_RyziwK"
      },
      "outputs": [],
      "source": [
        "def build_discriminator_v2_2(in_shape=(64, 32, 3)):\n",
        "  \"\"\"Returns the discriminator for the GAN.\n",
        "\n",
        "  Note: We do not compile the discriminator as in the tutorial this came from so\n",
        "  that we construct the GAN model so there is a symmetry with build_generator().\n",
        "\n",
        "  https://machinelearningmastery.com/how-to-develop-a-generative-adversarial-network-for-a-cifar-10-small-object-photographs-from-scratch/\n",
        "\n",
        "  \"\"\"\n",
        "  model = Sequential()\n",
        "\n",
        "  # Normal\n",
        "  # Not really sure why it's using a 3x3 kernel.\n",
        "  model.add(Conv2D(64, (3,3), padding='same', input_shape=in_shape))\n",
        "  model.add(LeakyReLU(alpha=0.2))\n",
        "\n",
        "  # Downsample\n",
        "  model.add(Conv2D(128, (3,3), strides=(2,2), padding='same'))\n",
        "  model.add(LeakyReLU(alpha=0.2))\n",
        "\n",
        "  model.add(Conv2D(128, (3,3), strides=(2,2), padding='same'))\n",
        "  model.add(LeakyReLU(alpha=0.2))\n",
        "\n",
        "  model.add(Conv2D(256, (3,3), strides=(2,2), padding='same'))\n",
        "  model.add(LeakyReLU(alpha=0.2))\n",
        "\n",
        "  # Classifier\n",
        "  model.add(Flatten())\n",
        "  model.add(Dropout(0.4)) \n",
        "  model.add(Dense(1, activation='sigmoid'))\n",
        "  return model"
      ]
    },
    {
      "cell_type": "code",
      "execution_count": 27,
      "metadata": {
        "id": "cYGLCZjH-UXT"
      },
      "outputs": [],
      "source": [
        "def create_gan_model_v2_2(latent_dim, \n",
        "                          g_opt_learning_rate=0.0001, \n",
        "                          d_opt_learning_rate=0.0001):\n",
        "  \"\"\"Create the GAN model.\n",
        "  \n",
        "  @return: (gan_model, generator, dicriminator, g_opt, d_opt)\n",
        "  \"\"\"\n",
        "  # Generator itself has no optimizers (not sure why.)\n",
        "  generator = build_generator_v2_2(latent_dim)\n",
        "\n",
        "  # Discriminator has it's own optimizer and loss, this is compiled with\n",
        "  # the metrics monitored as 'accuracy'.\n",
        "  discriminator = build_discriminator_v2_2()\n",
        "  d_opt = Adam(learning_rate=d_opt_learning_rate,  beta_1=0.5)\n",
        "  d_loss = BinaryCrossentropy()\n",
        "  discriminator.compile(loss=d_loss, optimizer=d_opt, metrics=['accuracy'])\n",
        "\n",
        "  # Setting discriminator as not trainable is important so that\n",
        "  # when optimizing the GAN it doesn't change the discriminator \n",
        "  # weights. We manually train it when feeding in real/fake images.\n",
        "  discriminator.trainable = False\n",
        "\n",
        "  # Create the GAN by combining both generator and the discriminator\n",
        "  # into this sequential model. \n",
        "  # \n",
        "  # This is a very smart way to set up the GAN so we don't need to\n",
        "  # manually do the back-propogation.\n",
        "  gan_model = Sequential()\n",
        "  gan_model.add(generator)\n",
        "  gan_model.add(discriminator)\n",
        "  g_opt = Adam(learning_rate=g_opt_learning_rate,  beta_1=0.5)\n",
        "  g_loss = BinaryCrossentropy()\n",
        "  gan_model.compile(loss=g_loss, optimizer=g_opt)\n",
        "\n",
        "  return (gan_model, generator, discriminator, g_opt, d_opt)  "
      ]
    },
    {
      "cell_type": "markdown",
      "metadata": {
        "id": "yFYIW91RAEVP"
      },
      "source": [
        "## 8. Train\n",
        "\n",
        "The actual training steps. Up to now, the model has not be created. This section creates the model and starts the training.\n",
        "\n",
        "Note, throughout the training of this GAN, we are using the outputs as:\n",
        "\n",
        " - Real Images : y_hat = 0\n",
        " - Fake Images : y_hat = 1\n",
        "\n",
        "\n",
        "Alterantive training:\n",
        "\n",
        "In Nicholas Renotte's tutorial, a subclassed  `keras.Model` was used to hold on to the discriminator (`d_model`) and generator (`g_model`) and it used `train_step()` to override the behavior and manually do the back-propagation. TensorFlow's tutorial also used this same back-propagation method but avoided using the subclass of the `keras.Model`.\n",
        "\n",
        "I found that the way Machine Learning Mastery's method of using a `Sequential()` model that contained the generator and discriminator more straightforward than the subclassing, so I stuck with that. It also meant I didn't have to do the GradientTape() and manually do the loss calculation, applyGradients, etc which made it more simple.\n"
      ]
    },
    {
      "cell_type": "code",
      "execution_count": 28,
      "metadata": {
        "id": "yWDwqHGV_y9i"
      },
      "outputs": [],
      "source": [
        "def train_gan_v2(gan_model, g_model, d_model, g_opt, d_opt,\n",
        "                 dataset, latent_dim, \n",
        "                 epochs=200, \n",
        "                 initial_epoch=0, \n",
        "                 checkpoint_dir=None,\n",
        "                 checkpoint_interval=10,\n",
        "                 history_path=None,\n",
        "                 samples_path=None):\n",
        "  \"\"\"\n",
        "  Training loop for the GAN.\n",
        "  \"\"\"\n",
        "\n",
        "  # Live preview updated after each epoch.\n",
        "  preview_cols = 4\n",
        "  preview_rows = 2\n",
        "  seed = generate_latent_points(latent_dim, preview_cols * preview_rows)\n",
        "\n",
        "  history = []\n",
        "  checkpoint = None\n",
        "  checkpoint_prefix = None\n",
        "  checkpoint_manager = None\n",
        "\n",
        "  # Initialize checkpointing and load the model if it exists.\n",
        "  if checkpoint_dir:\n",
        "    checkpoint = checkpoint_models(g_model, d_model, g_opt, d_opt)\n",
        "    checkpoint_manager = tf.train.CheckpointManager(checkpoint, directory=checkpoint_dir, max_to_keep=5)\n",
        "    checkpoint_manager.restore_or_initialize()\n",
        "\n",
        "  # Initialize training history logging that is also needed for\n",
        "  # resuming training.\n",
        "  if history_path:\n",
        "    history = load_training_history(history_path)\n",
        "    if len(history):\n",
        "      latest_epoch = -1\n",
        "      for hist in history:\n",
        "        latest_epoch = max(hist['epoch'], latest_epoch)\n",
        "      initial_epoch = latest_epoch + 1 # start from the next epoch\n",
        "\n",
        "  print(f'Starting training from epoch {initial_epoch} until {epochs}')\n",
        "\n",
        "  for epoch in range(initial_epoch, epochs):\n",
        "    start = time.time()\n",
        "    for batch in dataset.as_numpy_iterator():\n",
        "      if batch.shape[0] < BATCH_SIZE:\n",
        "        continue # skip if it is not a full batch.\n",
        "\n",
        "      # Create both the real image set (from batch) and the fake\n",
        "      # image set that is from the generator.\n",
        "      batch_size = BATCH_SIZE\n",
        "      real_images = batch\n",
        "      fake_images = generate_fake_samples(g_model, latent_dim, batch_size)\n",
        "      X_real, y_real = (batch, np.zeros(batch_size))\n",
        "      X_fake, y_fake = (fake_images, np.ones(batch_size))\n",
        "\n",
        "      # Add noise to the outputs.\n",
        "      # Add a bit of confusion in to the discriminator to avoid it being\n",
        "      # too good.\n",
        "      # \n",
        "      # 0.15 is from Nicholas Renotte video. \n",
        "      noise_real = 0.15 * tf.random.uniform(tf.shape(y_real))\n",
        "      noise_fake = -0.15 * tf.random.uniform(tf.shape(y_fake))\n",
        "      y_real += noise_real\n",
        "      y_fake += noise_fake\n",
        "\n",
        "      # Train the discriminator on both real and fake.\n",
        "      d_loss_real, _ = d_model.train_on_batch(X_real, y_real)\n",
        "      d_loss_fake, _ = d_model.train_on_batch(X_fake, y_fake)\n",
        "\n",
        "      # Train the GAN (generator-only) to try to fool the discriminator\n",
        "      # That means it is a win if the generator gets a real verdict (0)\n",
        "      # for their inputs.\n",
        "      X_gan = generate_latent_points(latent_dim, batch_size)\n",
        "      y_gan = np.zeros((batch_size, 1))\n",
        "      g_loss = gan_model.train_on_batch(X_gan, y_gan)\n",
        "      d_loss = d_loss_real + d_loss_fake\n",
        "   \n",
        "    \n",
        "    # Log and checkpoint\n",
        "    elapsed = time.time() - start\n",
        "    if checkpoint:\n",
        "      history.append({\"epoch\": epoch, 'd_loss_real': d_loss_real, 'd_loss_fake': d_loss_fake, 'g_loss': g_loss, 'elapsed': elapsed })\n",
        "      if (epoch + 1) % checkpoint_interval == 0:\n",
        "        checkpoint_manager.save()\n",
        "        save_training_history(history, history_path)\n",
        "\n",
        "    # Display progress in the console.\n",
        "    display.clear_output(wait=True)\n",
        "    generate_and_show(g_model, latent_dim, epoch=epoch, seed=seed, output_dir=samples_path)\n",
        "    for hist in history[-5:]:\n",
        "      if \"elapsed\" not in hist:\n",
        "        hist[\"elapsed\"] = 0        \n",
        "      print('Epoch: {epoch} d_real={d_loss_real:.3f} d_fake={d_loss_fake:.3f} g_loss={g_loss:.3f} duration={elapsed:.1f}s'.format(**hist))\n",
        "        \n",
        "def train_v2_2(epochs=200, checkpoint_dir=None, checkpoint_interval=10, history_path=None, samples_path=None):\n",
        "  \"\"\"Initialize and start the training.\"\"\"\n",
        "\n",
        "  # Learning Rates.\n",
        "  # This is from a bit of trial and error. \n",
        "  #\n",
        "  # Attempts:\n",
        "  #  - setting it to 0.00002 (d) & 0.002 (g) before but it trained too\n",
        "  #    slowly/no-progress.\n",
        "  #  - setting it to 0.0002 (d) & 0.0002 (g) which gave much faster\n",
        "  #    results, but the generator seemed to get stuck.\n",
        "  d_opt_lr = 0.0002 # learning rates\n",
        "  g_opt_lr = d_opt_lr * 10\n",
        "\n",
        "  # Create the models.\n",
        "  gan_model, g_model, d_model, g_opt, d_opt = create_gan_model_v2_2(\n",
        "      LATENT_DIM, \n",
        "      g_opt_learning_rate=g_opt_lr, \n",
        "      d_opt_learning_rate=d_opt_lr)  \n",
        "\n",
        "  # Start the training.\n",
        "  train_gan_v2(gan_model, g_model, d_model, g_opt, d_opt,\n",
        "               ds, LATENT_DIM, \n",
        "               epochs=epochs,\n",
        "               checkpoint_dir=checkpoint_dir,\n",
        "               checkpoint_interval=checkpoint_interval,\n",
        "               history_path=history_path,\n",
        "               samples_path=samples_path)"
      ]
    },
    {
      "cell_type": "code",
      "execution_count": 29,
      "metadata": {
        "id": "TJ97FKh0p5cI"
      },
      "outputs": [],
      "source": [
        "model_version = '2.3'\n",
        "current_checkpoints_dir = os.path.join(CHECKPOINTS_DIR, f'model-v{model_version}')\n",
        "current_history_path = os.path.join(CHECKPOINTS_DIR, f'model-v{model_version}-history.pkl')\n",
        "current_samples_path = os.path.join(CHECKPOINTS_DIR, f'samples-v{model_version}')\n"
      ]
    },
    {
      "cell_type": "code",
      "source": [
        "train_v2_2(epochs=1000,\n",
        "         checkpoint_dir=current_checkpoints_dir, \n",
        "         checkpoint_interval=5, \n",
        "         history_path=current_history_path,\n",
        "         samples_path=current_samples_path)\n"
      ],
      "metadata": {
        "id": "Pz2EcZf7dhGT",
        "colab": {
          "base_uri": "https://localhost:8080/",
          "height": 982
        },
        "outputId": "7260e66b-f357-4c93-f895-c3bfd96fd99e"
      },
      "execution_count": null,
      "outputs": [
        {
          "output_type": "display_data",
          "data": {
            "text/plain": [
              "<Figure size 1152x1152 with 8 Axes>"
            ],
            "image/png": "[encoded data removed]"
          },
          "metadata": {
            "needs_background": "light"
          }
        },
        {
          "output_type": "stream",
          "name": "stdout",
          "text": [
            "Epoch: 9 d_real=0.272 d_fake=0.268 g_loss=2.552 duration=141.9s\n",
            "Epoch: 10 d_real=0.247 d_fake=0.256 g_loss=2.646 duration=106.5s\n",
            "Epoch: 11 d_real=0.271 d_fake=0.267 g_loss=2.580 duration=141.9s\n",
            "Epoch: 12 d_real=0.268 d_fake=0.266 g_loss=2.596 duration=141.9s\n",
            "Epoch: 13 d_real=0.293 d_fake=0.263 g_loss=2.539 duration=103.9s\n"
          ]
        }
      ]
    },
    {
      "cell_type": "markdown",
      "metadata": {
        "id": "nw58Ajqt20fk"
      },
      "source": [
        "## Inspection"
      ]
    },
    {
      "cell_type": "markdown",
      "metadata": {
        "id": "_Qrc_9ol5csV"
      },
      "source": [
        "Performance inspection"
      ]
    },
    {
      "cell_type": "code",
      "execution_count": null,
      "metadata": {
        "colab": {
          "base_uri": "https://localhost:8080/",
          "height": 265
        },
        "id": "0GKT0lfy8dAG",
        "outputId": "4a86675d-e777-4576-d99d-04d3241c117a"
      },
      "outputs": [
        {
          "output_type": "display_data",
          "data": {
            "text/plain": [
              "<Figure size 432x288 with 1 Axes>"
            ],
            "image/png": "[encoded data removed]"
          },
          "metadata": {
            "needs_background": "light"
          }
        }
      ],
      "source": [
        "def plot_losses_v2():\n",
        "  hist = load_training_history(current_history_path)\n",
        "  plt.plot([h['d_loss_fake'] for h in hist], label='d_loss_fake')\n",
        "  plt.plot([h['d_loss_real'] for h in hist], label='d_loss_read')\n",
        "  plt.plot([h['g_loss'] for h in hist], label='g_loss')\n",
        "  plt.legend()\n",
        "  plt.show()\n",
        "\n",
        "plot_losses_v2()"
      ]
    },
    {
      "cell_type": "code",
      "execution_count": null,
      "metadata": {
        "id": "VNYTMyrJD8A9"
      },
      "outputs": [],
      "source": [
        "def test_model(checkpoint_dir):\n",
        "  gan_model, g_model, d_model, g_opt, d_opt = create_gan_model_v2_2(LATENT_DIM)\n",
        "\n",
        "  checkpoint = checkpoint_models(g_model, d_model, g_opt, d_opt)\n",
        "  checkpoint_manager = tf.train.CheckpointManager(checkpoint, directory=current_checkpoints_dir, max_to_keep=5)\n",
        "  checkpoint_manager.restore_or_initialize()  \n",
        "\n",
        "  generate_and_show(g_model, LATENT_DIM, rows=10, cols=20, scale=4)\n",
        "\n",
        "  # img_count = 4\n",
        "  # imgs = generate_fake_samples(g_model, LATENT_DIM, img_count)\n",
        "  # fig, ax = plt.subplots(ncols=img_count, figsize=(20, 10))\n",
        "  # for i, img in enumerate(imgs):\n",
        "  #   ax[i].imshow(np.squeeze(img))\n",
        "\n",
        "test_model(current_checkpoints_dir)    \n",
        "print(current_checkpoints_dir)"
      ]
    },
    {
      "cell_type": "code",
      "execution_count": null,
      "metadata": {
        "id": "ST09IrtJbHFh"
      },
      "outputs": [],
      "source": [
        ""
      ]
    }
  ],
  "metadata": {
    "accelerator": "GPU",
    "colab": {
      "collapsed_sections": [
        "KvKUwYJrGP57",
        "9QKjpUNPGVgY",
        "2mxTKIZhniJ9"
      ],
      "name": "Mobile GANs v2.3.ipynb",
      "provenance": [],
      "authorship_tag": "ABX9TyNtZnPi0e/62+1UQ+GrV8s7",
      "include_colab_link": true
    },
    "gpuClass": "standard",
    "kernelspec": {
      "display_name": "Python 3",
      "name": "python3"
    },
    "language_info": {
      "name": "python"
    },
    "widgets": {
      "application/vnd.jupyter.widget-state+json": {
        "81179f5372b84bdb985adfa5fb128605": {
          "model_module": "@jupyter-widgets/controls",
          "model_name": "HBoxModel",
          "model_module_version": "1.5.0",
          "state": {
            "_dom_classes": [],
            "_model_module": "@jupyter-widgets/controls",
            "_model_module_version": "1.5.0",
            "_model_name": "HBoxModel",
            "_view_count": null,
            "_view_module": "@jupyter-widgets/controls",
            "_view_module_version": "1.5.0",
            "_view_name": "HBoxView",
            "box_style": "",
            "children": [
              "IPY_MODEL_6abb49ae3b404c2cb390ccc0024de6f8",
              "IPY_MODEL_bbeb75004007475f940dbe49ea0c4dca",
              "IPY_MODEL_20adc704f5c2443bbd5e5d59cf611f80"
            ],
            "layout": "IPY_MODEL_c99b0f11a1974b268e70c43b33ae8bed"
          }
        },
        "6abb49ae3b404c2cb390ccc0024de6f8": {
          "model_module": "@jupyter-widgets/controls",
          "model_name": "HTMLModel",
          "model_module_version": "1.5.0",
          "state": {
            "_dom_classes": [],
            "_model_module": "@jupyter-widgets/controls",
            "_model_module_version": "1.5.0",
            "_model_name": "HTMLModel",
            "_view_count": null,
            "_view_module": "@jupyter-widgets/controls",
            "_view_module_version": "1.5.0",
            "_view_name": "HTMLView",
            "description": "",
            "description_tooltip": null,
            "layout": "IPY_MODEL_7056603351074485a95d3d330b9f3457",
            "placeholder": "​",
            "style": "IPY_MODEL_a5b49679effd40fb8524841b8d91d151",
            "value": "Downloading builder script: 100%"
          }
        },
        "bbeb75004007475f940dbe49ea0c4dca": {
          "model_module": "@jupyter-widgets/controls",
          "model_name": "FloatProgressModel",
          "model_module_version": "1.5.0",
          "state": {
            "_dom_classes": [],
            "_model_module": "@jupyter-widgets/controls",
            "_model_module_version": "1.5.0",
            "_model_name": "FloatProgressModel",
            "_view_count": null,
            "_view_module": "@jupyter-widgets/controls",
            "_view_module_version": "1.5.0",
            "_view_name": "ProgressView",
            "bar_style": "success",
            "description": "",
            "description_tooltip": null,
            "layout": "IPY_MODEL_2ffb8f4f47644eeaac9c748ae75427cd",
            "max": 6524,
            "min": 0,
            "orientation": "horizontal",
            "style": "IPY_MODEL_833b75c463d744e8bcc918e82c18f873",
            "value": 6524
          }
        },
        "20adc704f5c2443bbd5e5d59cf611f80": {
          "model_module": "@jupyter-widgets/controls",
          "model_name": "HTMLModel",
          "model_module_version": "1.5.0",
          "state": {
            "_dom_classes": [],
            "_model_module": "@jupyter-widgets/controls",
            "_model_module_version": "1.5.0",
            "_model_name": "HTMLModel",
            "_view_count": null,
            "_view_module": "@jupyter-widgets/controls",
            "_view_module_version": "1.5.0",
            "_view_name": "HTMLView",
            "description": "",
            "description_tooltip": null,
            "layout": "IPY_MODEL_e5e27158f3eb4eb498817094384f4786",
            "placeholder": "​",
            "style": "IPY_MODEL_96b315d9459a46709f61a92fa7c6d3df",
            "value": " 6.52k/6.52k [00:00&lt;00:00, 185kB/s]"
          }
        },
        "c99b0f11a1974b268e70c43b33ae8bed": {
          "model_module": "@jupyter-widgets/base",
          "model_name": "LayoutModel",
          "model_module_version": "1.2.0",
          "state": {
            "_model_module": "@jupyter-widgets/base",
            "_model_module_version": "1.2.0",
            "_model_name": "LayoutModel",
            "_view_count": null,
            "_view_module": "@jupyter-widgets/base",
            "_view_module_version": "1.2.0",
            "_view_name": "LayoutView",
            "align_content": null,
            "align_items": null,
            "align_self": null,
            "border": null,
            "bottom": null,
            "display": null,
            "flex": null,
            "flex_flow": null,
            "grid_area": null,
            "grid_auto_columns": null,
            "grid_auto_flow": null,
            "grid_auto_rows": null,
            "grid_column": null,
            "grid_gap": null,
            "grid_row": null,
            "grid_template_areas": null,
            "grid_template_columns": null,
            "grid_template_rows": null,
            "height": null,
            "justify_content": null,
            "justify_items": null,
            "left": null,
            "margin": null,
            "max_height": null,
            "max_width": null,
            "min_height": null,
            "min_width": null,
            "object_fit": null,
            "object_position": null,
            "order": null,
            "overflow": null,
            "overflow_x": null,
            "overflow_y": null,
            "padding": null,
            "right": null,
            "top": null,
            "visibility": null,
            "width": null
          }
        },
        "7056603351074485a95d3d330b9f3457": {
          "model_module": "@jupyter-widgets/base",
          "model_name": "LayoutModel",
          "model_module_version": "1.2.0",
          "state": {
            "_model_module": "@jupyter-widgets/base",
            "_model_module_version": "1.2.0",
            "_model_name": "LayoutModel",
            "_view_count": null,
            "_view_module": "@jupyter-widgets/base",
            "_view_module_version": "1.2.0",
            "_view_name": "LayoutView",
            "align_content": null,
            "align_items": null,
            "align_self": null,
            "border": null,
            "bottom": null,
            "display": null,
            "flex": null,
            "flex_flow": null,
            "grid_area": null,
            "grid_auto_columns": null,
            "grid_auto_flow": null,
            "grid_auto_rows": null,
            "grid_column": null,
            "grid_gap": null,
            "grid_row": null,
            "grid_template_areas": null,
            "grid_template_columns": null,
            "grid_template_rows": null,
            "height": null,
            "justify_content": null,
            "justify_items": null,
            "left": null,
            "margin": null,
            "max_height": null,
            "max_width": null,
            "min_height": null,
            "min_width": null,
            "object_fit": null,
            "object_position": null,
            "order": null,
            "overflow": null,
            "overflow_x": null,
            "overflow_y": null,
            "padding": null,
            "right": null,
            "top": null,
            "visibility": null,
            "width": null
          }
        },
        "a5b49679effd40fb8524841b8d91d151": {
          "model_module": "@jupyter-widgets/controls",
          "model_name": "DescriptionStyleModel",
          "model_module_version": "1.5.0",
          "state": {
            "_model_module": "@jupyter-widgets/controls",
            "_model_module_version": "1.5.0",
            "_model_name": "DescriptionStyleModel",
            "_view_count": null,
            "_view_module": "@jupyter-widgets/base",
            "_view_module_version": "1.2.0",
            "_view_name": "StyleView",
            "description_width": ""
          }
        },
        "2ffb8f4f47644eeaac9c748ae75427cd": {
          "model_module": "@jupyter-widgets/base",
          "model_name": "LayoutModel",
          "model_module_version": "1.2.0",
          "state": {
            "_model_module": "@jupyter-widgets/base",
            "_model_module_version": "1.2.0",
            "_model_name": "LayoutModel",
            "_view_count": null,
            "_view_module": "@jupyter-widgets/base",
            "_view_module_version": "1.2.0",
            "_view_name": "LayoutView",
            "align_content": null,
            "align_items": null,
            "align_self": null,
            "border": null,
            "bottom": null,
            "display": null,
            "flex": null,
            "flex_flow": null,
            "grid_area": null,
            "grid_auto_columns": null,
            "grid_auto_flow": null,
            "grid_auto_rows": null,
            "grid_column": null,
            "grid_gap": null,
            "grid_row": null,
            "grid_template_areas": null,
            "grid_template_columns": null,
            "grid_template_rows": null,
            "height": null,
            "justify_content": null,
            "justify_items": null,
            "left": null,
            "margin": null,
            "max_height": null,
            "max_width": null,
            "min_height": null,
            "min_width": null,
            "object_fit": null,
            "object_position": null,
            "order": null,
            "overflow": null,
            "overflow_x": null,
            "overflow_y": null,
            "padding": null,
            "right": null,
            "top": null,
            "visibility": null,
            "width": null
          }
        },
        "833b75c463d744e8bcc918e82c18f873": {
          "model_module": "@jupyter-widgets/controls",
          "model_name": "ProgressStyleModel",
          "model_module_version": "1.5.0",
          "state": {
            "_model_module": "@jupyter-widgets/controls",
            "_model_module_version": "1.5.0",
            "_model_name": "ProgressStyleModel",
            "_view_count": null,
            "_view_module": "@jupyter-widgets/base",
            "_view_module_version": "1.2.0",
            "_view_name": "StyleView",
            "bar_color": null,
            "description_width": ""
          }
        },
        "e5e27158f3eb4eb498817094384f4786": {
          "model_module": "@jupyter-widgets/base",
          "model_name": "LayoutModel",
          "model_module_version": "1.2.0",
          "state": {
            "_model_module": "@jupyter-widgets/base",
            "_model_module_version": "1.2.0",
            "_model_name": "LayoutModel",
            "_view_count": null,
            "_view_module": "@jupyter-widgets/base",
            "_view_module_version": "1.2.0",
            "_view_name": "LayoutView",
            "align_content": null,
            "align_items": null,
            "align_self": null,
            "border": null,
            "bottom": null,
            "display": null,
            "flex": null,
            "flex_flow": null,
            "grid_area": null,
            "grid_auto_columns": null,
            "grid_auto_flow": null,
            "grid_auto_rows": null,
            "grid_column": null,
            "grid_gap": null,
            "grid_row": null,
            "grid_template_areas": null,
            "grid_template_columns": null,
            "grid_template_rows": null,
            "height": null,
            "justify_content": null,
            "justify_items": null,
            "left": null,
            "margin": null,
            "max_height": null,
            "max_width": null,
            "min_height": null,
            "min_width": null,
            "object_fit": null,
            "object_position": null,
            "order": null,
            "overflow": null,
            "overflow_x": null,
            "overflow_y": null,
            "padding": null,
            "right": null,
            "top": null,
            "visibility": null,
            "width": null
          }
        },
        "96b315d9459a46709f61a92fa7c6d3df": {
          "model_module": "@jupyter-widgets/controls",
          "model_name": "DescriptionStyleModel",
          "model_module_version": "1.5.0",
          "state": {
            "_model_module": "@jupyter-widgets/controls",
            "_model_module_version": "1.5.0",
            "_model_name": "DescriptionStyleModel",
            "_view_count": null,
            "_view_module": "@jupyter-widgets/base",
            "_view_module_version": "1.2.0",
            "_view_name": "StyleView",
            "description_width": ""
          }
        },
        "22cc3a5ec1704d0f9e59a4241396281d": {
          "model_module": "@jupyter-widgets/controls",
          "model_name": "HBoxModel",
          "model_module_version": "1.5.0",
          "state": {
            "_dom_classes": [],
            "_model_module": "@jupyter-widgets/controls",
            "_model_module_version": "1.5.0",
            "_model_name": "HBoxModel",
            "_view_count": null,
            "_view_module": "@jupyter-widgets/controls",
            "_view_module_version": "1.5.0",
            "_view_name": "HBoxView",
            "box_style": "",
            "children": [
              "IPY_MODEL_acd1d74aecb0454eb76e35445f7a58de",
              "IPY_MODEL_cf13ef69c16947c1bbe579ad4f8fc1c1",
              "IPY_MODEL_fc20c724a5d94b8ea274a5c0cf9fc883"
            ],
            "layout": "IPY_MODEL_35fb86b79f7e4718874126630cd33198"
          }
        },
        "acd1d74aecb0454eb76e35445f7a58de": {
          "model_module": "@jupyter-widgets/controls",
          "model_name": "HTMLModel",
          "model_module_version": "1.5.0",
          "state": {
            "_dom_classes": [],
            "_model_module": "@jupyter-widgets/controls",
            "_model_module_version": "1.5.0",
            "_model_name": "HTMLModel",
            "_view_count": null,
            "_view_module": "@jupyter-widgets/controls",
            "_view_module_version": "1.5.0",
            "_view_name": "HTMLView",
            "description": "",
            "description_tooltip": null,
            "layout": "IPY_MODEL_4c08d825dd4f4d9dbce92ca523e2499e",
            "placeholder": "​",
            "style": "IPY_MODEL_53fbda2b18914ecfaa5109493d5a8d58",
            "value": "Downloading data: 100%"
          }
        },
        "cf13ef69c16947c1bbe579ad4f8fc1c1": {
          "model_module": "@jupyter-widgets/controls",
          "model_name": "FloatProgressModel",
          "model_module_version": "1.5.0",
          "state": {
            "_dom_classes": [],
            "_model_module": "@jupyter-widgets/controls",
            "_model_module_version": "1.5.0",
            "_model_name": "FloatProgressModel",
            "_view_count": null,
            "_view_module": "@jupyter-widgets/controls",
            "_view_module_version": "1.5.0",
            "_view_name": "ProgressView",
            "bar_style": "success",
            "description": "",
            "description_tooltip": null,
            "layout": "IPY_MODEL_3c2465b9b79443f189d5b14fb66fb01e",
            "max": 2135916754,
            "min": 0,
            "orientation": "horizontal",
            "style": "IPY_MODEL_b72cc10028a2499a91a9f24eac0a7d7c",
            "value": 2135916754
          }
        },
        "fc20c724a5d94b8ea274a5c0cf9fc883": {
          "model_module": "@jupyter-widgets/controls",
          "model_name": "HTMLModel",
          "model_module_version": "1.5.0",
          "state": {
            "_dom_classes": [],
            "_model_module": "@jupyter-widgets/controls",
            "_model_module_version": "1.5.0",
            "_model_name": "HTMLModel",
            "_view_count": null,
            "_view_module": "@jupyter-widgets/controls",
            "_view_module_version": "1.5.0",
            "_view_name": "HTMLView",
            "description": "",
            "description_tooltip": null,
            "layout": "IPY_MODEL_d3adfdc55eb14ccdb14e6b0529b81747",
            "placeholder": "​",
            "style": "IPY_MODEL_dff20bb687904dc38f3a4f5089de1b77",
            "value": " 2.14G/2.14G [00:41&lt;00:00, 61.5MB/s]"
          }
        },
        "35fb86b79f7e4718874126630cd33198": {
          "model_module": "@jupyter-widgets/base",
          "model_name": "LayoutModel",
          "model_module_version": "1.2.0",
          "state": {
            "_model_module": "@jupyter-widgets/base",
            "_model_module_version": "1.2.0",
            "_model_name": "LayoutModel",
            "_view_count": null,
            "_view_module": "@jupyter-widgets/base",
            "_view_module_version": "1.2.0",
            "_view_name": "LayoutView",
            "align_content": null,
            "align_items": null,
            "align_self": null,
            "border": null,
            "bottom": null,
            "display": null,
            "flex": null,
            "flex_flow": null,
            "grid_area": null,
            "grid_auto_columns": null,
            "grid_auto_flow": null,
            "grid_auto_rows": null,
            "grid_column": null,
            "grid_gap": null,
            "grid_row": null,
            "grid_template_areas": null,
            "grid_template_columns": null,
            "grid_template_rows": null,
            "height": null,
            "justify_content": null,
            "justify_items": null,
            "left": null,
            "margin": null,
            "max_height": null,
            "max_width": null,
            "min_height": null,
            "min_width": null,
            "object_fit": null,
            "object_position": null,
            "order": null,
            "overflow": null,
            "overflow_x": null,
            "overflow_y": null,
            "padding": null,
            "right": null,
            "top": null,
            "visibility": null,
            "width": null
          }
        },
        "4c08d825dd4f4d9dbce92ca523e2499e": {
          "model_module": "@jupyter-widgets/base",
          "model_name": "LayoutModel",
          "model_module_version": "1.2.0",
          "state": {
            "_model_module": "@jupyter-widgets/base",
            "_model_module_version": "1.2.0",
            "_model_name": "LayoutModel",
            "_view_count": null,
            "_view_module": "@jupyter-widgets/base",
            "_view_module_version": "1.2.0",
            "_view_name": "LayoutView",
            "align_content": null,
            "align_items": null,
            "align_self": null,
            "border": null,
            "bottom": null,
            "display": null,
            "flex": null,
            "flex_flow": null,
            "grid_area": null,
            "grid_auto_columns": null,
            "grid_auto_flow": null,
            "grid_auto_rows": null,
            "grid_column": null,
            "grid_gap": null,
            "grid_row": null,
            "grid_template_areas": null,
            "grid_template_columns": null,
            "grid_template_rows": null,
            "height": null,
            "justify_content": null,
            "justify_items": null,
            "left": null,
            "margin": null,
            "max_height": null,
            "max_width": null,
            "min_height": null,
            "min_width": null,
            "object_fit": null,
            "object_position": null,
            "order": null,
            "overflow": null,
            "overflow_x": null,
            "overflow_y": null,
            "padding": null,
            "right": null,
            "top": null,
            "visibility": null,
            "width": null
          }
        },
        "53fbda2b18914ecfaa5109493d5a8d58": {
          "model_module": "@jupyter-widgets/controls",
          "model_name": "DescriptionStyleModel",
          "model_module_version": "1.5.0",
          "state": {
            "_model_module": "@jupyter-widgets/controls",
            "_model_module_version": "1.5.0",
            "_model_name": "DescriptionStyleModel",
            "_view_count": null,
            "_view_module": "@jupyter-widgets/base",
            "_view_module_version": "1.2.0",
            "_view_name": "StyleView",
            "description_width": ""
          }
        },
        "3c2465b9b79443f189d5b14fb66fb01e": {
          "model_module": "@jupyter-widgets/base",
          "model_name": "LayoutModel",
          "model_module_version": "1.2.0",
          "state": {
            "_model_module": "@jupyter-widgets/base",
            "_model_module_version": "1.2.0",
            "_model_name": "LayoutModel",
            "_view_count": null,
            "_view_module": "@jupyter-widgets/base",
            "_view_module_version": "1.2.0",
            "_view_name": "LayoutView",
            "align_content": null,
            "align_items": null,
            "align_self": null,
            "border": null,
            "bottom": null,
            "display": null,
            "flex": null,
            "flex_flow": null,
            "grid_area": null,
            "grid_auto_columns": null,
            "grid_auto_flow": null,
            "grid_auto_rows": null,
            "grid_column": null,
            "grid_gap": null,
            "grid_row": null,
            "grid_template_areas": null,
            "grid_template_columns": null,
            "grid_template_rows": null,
            "height": null,
            "justify_content": null,
            "justify_items": null,
            "left": null,
            "margin": null,
            "max_height": null,
            "max_width": null,
            "min_height": null,
            "min_width": null,
            "object_fit": null,
            "object_position": null,
            "order": null,
            "overflow": null,
            "overflow_x": null,
            "overflow_y": null,
            "padding": null,
            "right": null,
            "top": null,
            "visibility": null,
            "width": null
          }
        },
        "b72cc10028a2499a91a9f24eac0a7d7c": {
          "model_module": "@jupyter-widgets/controls",
          "model_name": "ProgressStyleModel",
          "model_module_version": "1.5.0",
          "state": {
            "_model_module": "@jupyter-widgets/controls",
            "_model_module_version": "1.5.0",
            "_model_name": "ProgressStyleModel",
            "_view_count": null,
            "_view_module": "@jupyter-widgets/base",
            "_view_module_version": "1.2.0",
            "_view_name": "StyleView",
            "bar_color": null,
            "description_width": ""
          }
        },
        "d3adfdc55eb14ccdb14e6b0529b81747": {
          "model_module": "@jupyter-widgets/base",
          "model_name": "LayoutModel",
          "model_module_version": "1.2.0",
          "state": {
            "_model_module": "@jupyter-widgets/base",
            "_model_module_version": "1.2.0",
            "_model_name": "LayoutModel",
            "_view_count": null,
            "_view_module": "@jupyter-widgets/base",
            "_view_module_version": "1.2.0",
            "_view_name": "LayoutView",
            "align_content": null,
            "align_items": null,
            "align_self": null,
            "border": null,
            "bottom": null,
            "display": null,
            "flex": null,
            "flex_flow": null,
            "grid_area": null,
            "grid_auto_columns": null,
            "grid_auto_flow": null,
            "grid_auto_rows": null,
            "grid_column": null,
            "grid_gap": null,
            "grid_row": null,
            "grid_template_areas": null,
            "grid_template_columns": null,
            "grid_template_rows": null,
            "height": null,
            "justify_content": null,
            "justify_items": null,
            "left": null,
            "margin": null,
            "max_height": null,
            "max_width": null,
            "min_height": null,
            "min_width": null,
            "object_fit": null,
            "object_position": null,
            "order": null,
            "overflow": null,
            "overflow_x": null,
            "overflow_y": null,
            "padding": null,
            "right": null,
            "top": null,
            "visibility": null,
            "width": null
          }
        },
        "dff20bb687904dc38f3a4f5089de1b77": {
          "model_module": "@jupyter-widgets/controls",
          "model_name": "DescriptionStyleModel",
          "model_module_version": "1.5.0",
          "state": {
            "_model_module": "@jupyter-widgets/controls",
            "_model_module_version": "1.5.0",
            "_model_name": "DescriptionStyleModel",
            "_view_count": null,
            "_view_module": "@jupyter-widgets/base",
            "_view_module_version": "1.2.0",
            "_view_name": "StyleView",
            "description_width": ""
          }
        },
        "dd702ba428fe448d96629fc9032ba291": {
          "model_module": "@jupyter-widgets/controls",
          "model_name": "HBoxModel",
          "model_module_version": "1.5.0",
          "state": {
            "_dom_classes": [],
            "_model_module": "@jupyter-widgets/controls",
            "_model_module_version": "1.5.0",
            "_model_name": "HBoxModel",
            "_view_count": null,
            "_view_module": "@jupyter-widgets/controls",
            "_view_module_version": "1.5.0",
            "_view_name": "HBoxView",
            "box_style": "",
            "children": [
              "IPY_MODEL_c8fc8a2039364fd082777070bc5c9d87",
              "IPY_MODEL_0b36119936bb40929eb2b384cb90dde9",
              "IPY_MODEL_37b88a22dc57483ba08b004a814b10ce"
            ],
            "layout": "IPY_MODEL_4398966b09c046ac8e78f0d692ee7382"
          }
        },
        "c8fc8a2039364fd082777070bc5c9d87": {
          "model_module": "@jupyter-widgets/controls",
          "model_name": "HTMLModel",
          "model_module_version": "1.5.0",
          "state": {
            "_dom_classes": [],
            "_model_module": "@jupyter-widgets/controls",
            "_model_module_version": "1.5.0",
            "_model_name": "HTMLModel",
            "_view_count": null,
            "_view_module": "@jupyter-widgets/controls",
            "_view_module_version": "1.5.0",
            "_view_name": "HTMLView",
            "description": "",
            "description_tooltip": null,
            "layout": "IPY_MODEL_aa08057e305048cf8f9c5d41d85c8fa0",
            "placeholder": "​",
            "style": "IPY_MODEL_ab5364e667bb41df88d1765bd7f8af41",
            "value": "Generating train split: "
          }
        },
        "0b36119936bb40929eb2b384cb90dde9": {
          "model_module": "@jupyter-widgets/controls",
          "model_name": "FloatProgressModel",
          "model_module_version": "1.5.0",
          "state": {
            "_dom_classes": [],
            "_model_module": "@jupyter-widgets/controls",
            "_model_module_version": "1.5.0",
            "_model_name": "FloatProgressModel",
            "_view_count": null,
            "_view_module": "@jupyter-widgets/controls",
            "_view_module_version": "1.5.0",
            "_view_name": "ProgressView",
            "bar_style": "info",
            "description": "",
            "description_tooltip": null,
            "layout": "IPY_MODEL_dd3ef2dea5384abbb4509f6d4c37c358",
            "max": 1,
            "min": 0,
            "orientation": "horizontal",
            "style": "IPY_MODEL_3043d830296e4be787f006f414d928a8",
            "value": 1
          }
        },
        "37b88a22dc57483ba08b004a814b10ce": {
          "model_module": "@jupyter-widgets/controls",
          "model_name": "HTMLModel",
          "model_module_version": "1.5.0",
          "state": {
            "_dom_classes": [],
            "_model_module": "@jupyter-widgets/controls",
            "_model_module_version": "1.5.0",
            "_model_name": "HTMLModel",
            "_view_count": null,
            "_view_module": "@jupyter-widgets/controls",
            "_view_module_version": "1.5.0",
            "_view_name": "HTMLView",
            "description": "",
            "description_tooltip": null,
            "layout": "IPY_MODEL_1eea6494cc16414fb08eeed23189cd7f",
            "placeholder": "​",
            "style": "IPY_MODEL_e561f7e526fb495c97c41e1175877abc",
            "value": " 24563/0 [01:45&lt;00:00, 405.32 examples/s]"
          }
        },
        "4398966b09c046ac8e78f0d692ee7382": {
          "model_module": "@jupyter-widgets/base",
          "model_name": "LayoutModel",
          "model_module_version": "1.2.0",
          "state": {
            "_model_module": "@jupyter-widgets/base",
            "_model_module_version": "1.2.0",
            "_model_name": "LayoutModel",
            "_view_count": null,
            "_view_module": "@jupyter-widgets/base",
            "_view_module_version": "1.2.0",
            "_view_name": "LayoutView",
            "align_content": null,
            "align_items": null,
            "align_self": null,
            "border": null,
            "bottom": null,
            "display": null,
            "flex": null,
            "flex_flow": null,
            "grid_area": null,
            "grid_auto_columns": null,
            "grid_auto_flow": null,
            "grid_auto_rows": null,
            "grid_column": null,
            "grid_gap": null,
            "grid_row": null,
            "grid_template_areas": null,
            "grid_template_columns": null,
            "grid_template_rows": null,
            "height": null,
            "justify_content": null,
            "justify_items": null,
            "left": null,
            "margin": null,
            "max_height": null,
            "max_width": null,
            "min_height": null,
            "min_width": null,
            "object_fit": null,
            "object_position": null,
            "order": null,
            "overflow": null,
            "overflow_x": null,
            "overflow_y": null,
            "padding": null,
            "right": null,
            "top": null,
            "visibility": null,
            "width": null
          }
        },
        "aa08057e305048cf8f9c5d41d85c8fa0": {
          "model_module": "@jupyter-widgets/base",
          "model_name": "LayoutModel",
          "model_module_version": "1.2.0",
          "state": {
            "_model_module": "@jupyter-widgets/base",
            "_model_module_version": "1.2.0",
            "_model_name": "LayoutModel",
            "_view_count": null,
            "_view_module": "@jupyter-widgets/base",
            "_view_module_version": "1.2.0",
            "_view_name": "LayoutView",
            "align_content": null,
            "align_items": null,
            "align_self": null,
            "border": null,
            "bottom": null,
            "display": null,
            "flex": null,
            "flex_flow": null,
            "grid_area": null,
            "grid_auto_columns": null,
            "grid_auto_flow": null,
            "grid_auto_rows": null,
            "grid_column": null,
            "grid_gap": null,
            "grid_row": null,
            "grid_template_areas": null,
            "grid_template_columns": null,
            "grid_template_rows": null,
            "height": null,
            "justify_content": null,
            "justify_items": null,
            "left": null,
            "margin": null,
            "max_height": null,
            "max_width": null,
            "min_height": null,
            "min_width": null,
            "object_fit": null,
            "object_position": null,
            "order": null,
            "overflow": null,
            "overflow_x": null,
            "overflow_y": null,
            "padding": null,
            "right": null,
            "top": null,
            "visibility": null,
            "width": null
          }
        },
        "ab5364e667bb41df88d1765bd7f8af41": {
          "model_module": "@jupyter-widgets/controls",
          "model_name": "DescriptionStyleModel",
          "model_module_version": "1.5.0",
          "state": {
            "_model_module": "@jupyter-widgets/controls",
            "_model_module_version": "1.5.0",
            "_model_name": "DescriptionStyleModel",
            "_view_count": null,
            "_view_module": "@jupyter-widgets/base",
            "_view_module_version": "1.2.0",
            "_view_name": "StyleView",
            "description_width": ""
          }
        },
        "dd3ef2dea5384abbb4509f6d4c37c358": {
          "model_module": "@jupyter-widgets/base",
          "model_name": "LayoutModel",
          "model_module_version": "1.2.0",
          "state": {
            "_model_module": "@jupyter-widgets/base",
            "_model_module_version": "1.2.0",
            "_model_name": "LayoutModel",
            "_view_count": null,
            "_view_module": "@jupyter-widgets/base",
            "_view_module_version": "1.2.0",
            "_view_name": "LayoutView",
            "align_content": null,
            "align_items": null,
            "align_self": null,
            "border": null,
            "bottom": null,
            "display": null,
            "flex": null,
            "flex_flow": null,
            "grid_area": null,
            "grid_auto_columns": null,
            "grid_auto_flow": null,
            "grid_auto_rows": null,
            "grid_column": null,
            "grid_gap": null,
            "grid_row": null,
            "grid_template_areas": null,
            "grid_template_columns": null,
            "grid_template_rows": null,
            "height": null,
            "justify_content": null,
            "justify_items": null,
            "left": null,
            "margin": null,
            "max_height": null,
            "max_width": null,
            "min_height": null,
            "min_width": null,
            "object_fit": null,
            "object_position": null,
            "order": null,
            "overflow": null,
            "overflow_x": null,
            "overflow_y": null,
            "padding": null,
            "right": null,
            "top": null,
            "visibility": null,
            "width": "20px"
          }
        },
        "3043d830296e4be787f006f414d928a8": {
          "model_module": "@jupyter-widgets/controls",
          "model_name": "ProgressStyleModel",
          "model_module_version": "1.5.0",
          "state": {
            "_model_module": "@jupyter-widgets/controls",
            "_model_module_version": "1.5.0",
            "_model_name": "ProgressStyleModel",
            "_view_count": null,
            "_view_module": "@jupyter-widgets/base",
            "_view_module_version": "1.2.0",
            "_view_name": "StyleView",
            "bar_color": null,
            "description_width": ""
          }
        },
        "1eea6494cc16414fb08eeed23189cd7f": {
          "model_module": "@jupyter-widgets/base",
          "model_name": "LayoutModel",
          "model_module_version": "1.2.0",
          "state": {
            "_model_module": "@jupyter-widgets/base",
            "_model_module_version": "1.2.0",
            "_model_name": "LayoutModel",
            "_view_count": null,
            "_view_module": "@jupyter-widgets/base",
            "_view_module_version": "1.2.0",
            "_view_name": "LayoutView",
            "align_content": null,
            "align_items": null,
            "align_self": null,
            "border": null,
            "bottom": null,
            "display": null,
            "flex": null,
            "flex_flow": null,
            "grid_area": null,
            "grid_auto_columns": null,
            "grid_auto_flow": null,
            "grid_auto_rows": null,
            "grid_column": null,
            "grid_gap": null,
            "grid_row": null,
            "grid_template_areas": null,
            "grid_template_columns": null,
            "grid_template_rows": null,
            "height": null,
            "justify_content": null,
            "justify_items": null,
            "left": null,
            "margin": null,
            "max_height": null,
            "max_width": null,
            "min_height": null,
            "min_width": null,
            "object_fit": null,
            "object_position": null,
            "order": null,
            "overflow": null,
            "overflow_x": null,
            "overflow_y": null,
            "padding": null,
            "right": null,
            "top": null,
            "visibility": null,
            "width": null
          }
        },
        "e561f7e526fb495c97c41e1175877abc": {
          "model_module": "@jupyter-widgets/controls",
          "model_name": "DescriptionStyleModel",
          "model_module_version": "1.5.0",
          "state": {
            "_model_module": "@jupyter-widgets/controls",
            "_model_module_version": "1.5.0",
            "_model_name": "DescriptionStyleModel",
            "_view_count": null,
            "_view_module": "@jupyter-widgets/base",
            "_view_module_version": "1.2.0",
            "_view_name": "StyleView",
            "description_width": ""
          }
        }
      }
    }
  },
  "nbformat": 4,
  "nbformat_minor": 0
}