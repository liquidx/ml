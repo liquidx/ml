{
  "nbformat": 4,
  "nbformat_minor": 0,
  "metadata": {
    "colab": {
      "name": "Mobile GANs.ipynb",
      "provenance": [],
      "collapsed_sections": [
        "9QKjpUNPGVgY",
        "nHmcNSuBGZLC",
        "n94QgbXgGb6B",
        "4lO1XsYLmJOx",
        "a0Tqc0_dy_03",
        "U92P8CIvOF2G"
      ],
      "authorship_tag": "ABX9TyO255xtuPmJ6qRbFF3ixNiJ",
      "include_colab_link": true
    },
    "kernelspec": {
      "name": "python3",
      "display_name": "Python 3"
    },
    "language_info": {
      "name": "python"
    },
    "accelerator": "GPU",
    "gpuClass": "standard",
    "widgets": {
      "application/vnd.jupyter.widget-state+json": {
        "05b8ed4e13d14b4da86c7c7ecab2bf3f": {
          "model_module": "@jupyter-widgets/controls",
          "model_name": "HBoxModel",
          "model_module_version": "1.5.0",
          "state": {
            "_dom_classes": [],
            "_model_module": "@jupyter-widgets/controls",
            "_model_module_version": "1.5.0",
            "_model_name": "HBoxModel",
            "_view_count": null,
            "_view_module": "@jupyter-widgets/controls",
            "_view_module_version": "1.5.0",
            "_view_name": "HBoxView",
            "box_style": "",
            "children": [
              "IPY_MODEL_5f775b005b0c4103a8e47d1060adc5f7",
              "IPY_MODEL_0b18239855a148fc90decdbd3109bff7",
              "IPY_MODEL_26bc280f279945cd8f293fb43e878dc7"
            ],
            "layout": "IPY_MODEL_e767dbefa24d4e088cc7dfe82128e654"
          }
        },
        "5f775b005b0c4103a8e47d1060adc5f7": {
          "model_module": "@jupyter-widgets/controls",
          "model_name": "HTMLModel",
          "model_module_version": "1.5.0",
          "state": {
            "_dom_classes": [],
            "_model_module": "@jupyter-widgets/controls",
            "_model_module_version": "1.5.0",
            "_model_name": "HTMLModel",
            "_view_count": null,
            "_view_module": "@jupyter-widgets/controls",
            "_view_module_version": "1.5.0",
            "_view_name": "HTMLView",
            "description": "",
            "description_tooltip": null,
            "layout": "IPY_MODEL_d4a7e2422d5140c9b192e998e29755a7",
            "placeholder": "​",
            "style": "IPY_MODEL_09d3bcf68d1a40af9f10aea2c4aa6f23",
            "value": "Downloading builder script: 100%"
          }
        },
        "0b18239855a148fc90decdbd3109bff7": {
          "model_module": "@jupyter-widgets/controls",
          "model_name": "FloatProgressModel",
          "model_module_version": "1.5.0",
          "state": {
            "_dom_classes": [],
            "_model_module": "@jupyter-widgets/controls",
            "_model_module_version": "1.5.0",
            "_model_name": "FloatProgressModel",
            "_view_count": null,
            "_view_module": "@jupyter-widgets/controls",
            "_view_module_version": "1.5.0",
            "_view_name": "ProgressView",
            "bar_style": "success",
            "description": "",
            "description_tooltip": null,
            "layout": "IPY_MODEL_9ca1781cc8ca4af88b2f290ee104b528",
            "max": 6524,
            "min": 0,
            "orientation": "horizontal",
            "style": "IPY_MODEL_3741a201a0c548ef94fd63486a70015f",
            "value": 6524
          }
        },
        "26bc280f279945cd8f293fb43e878dc7": {
          "model_module": "@jupyter-widgets/controls",
          "model_name": "HTMLModel",
          "model_module_version": "1.5.0",
          "state": {
            "_dom_classes": [],
            "_model_module": "@jupyter-widgets/controls",
            "_model_module_version": "1.5.0",
            "_model_name": "HTMLModel",
            "_view_count": null,
            "_view_module": "@jupyter-widgets/controls",
            "_view_module_version": "1.5.0",
            "_view_name": "HTMLView",
            "description": "",
            "description_tooltip": null,
            "layout": "IPY_MODEL_c12bb35a393d4086be624c6d7b1dcbbe",
            "placeholder": "​",
            "style": "IPY_MODEL_350ed46080d24078b266b5b04cd20916",
            "value": " 6.52k/6.52k [00:00&lt;00:00, 106kB/s]"
          }
        },
        "e767dbefa24d4e088cc7dfe82128e654": {
          "model_module": "@jupyter-widgets/base",
          "model_name": "LayoutModel",
          "model_module_version": "1.2.0",
          "state": {
            "_model_module": "@jupyter-widgets/base",
            "_model_module_version": "1.2.0",
            "_model_name": "LayoutModel",
            "_view_count": null,
            "_view_module": "@jupyter-widgets/base",
            "_view_module_version": "1.2.0",
            "_view_name": "LayoutView",
            "align_content": null,
            "align_items": null,
            "align_self": null,
            "border": null,
            "bottom": null,
            "display": null,
            "flex": null,
            "flex_flow": null,
            "grid_area": null,
            "grid_auto_columns": null,
            "grid_auto_flow": null,
            "grid_auto_rows": null,
            "grid_column": null,
            "grid_gap": null,
            "grid_row": null,
            "grid_template_areas": null,
            "grid_template_columns": null,
            "grid_template_rows": null,
            "height": null,
            "justify_content": null,
            "justify_items": null,
            "left": null,
            "margin": null,
            "max_height": null,
            "max_width": null,
            "min_height": null,
            "min_width": null,
            "object_fit": null,
            "object_position": null,
            "order": null,
            "overflow": null,
            "overflow_x": null,
            "overflow_y": null,
            "padding": null,
            "right": null,
            "top": null,
            "visibility": null,
            "width": null
          }
        },
        "d4a7e2422d5140c9b192e998e29755a7": {
          "model_module": "@jupyter-widgets/base",
          "model_name": "LayoutModel",
          "model_module_version": "1.2.0",
          "state": {
            "_model_module": "@jupyter-widgets/base",
            "_model_module_version": "1.2.0",
            "_model_name": "LayoutModel",
            "_view_count": null,
            "_view_module": "@jupyter-widgets/base",
            "_view_module_version": "1.2.0",
            "_view_name": "LayoutView",
            "align_content": null,
            "align_items": null,
            "align_self": null,
            "border": null,
            "bottom": null,
            "display": null,
            "flex": null,
            "flex_flow": null,
            "grid_area": null,
            "grid_auto_columns": null,
            "grid_auto_flow": null,
            "grid_auto_rows": null,
            "grid_column": null,
            "grid_gap": null,
            "grid_row": null,
            "grid_template_areas": null,
            "grid_template_columns": null,
            "grid_template_rows": null,
            "height": null,
            "justify_content": null,
            "justify_items": null,
            "left": null,
            "margin": null,
            "max_height": null,
            "max_width": null,
            "min_height": null,
            "min_width": null,
            "object_fit": null,
            "object_position": null,
            "order": null,
            "overflow": null,
            "overflow_x": null,
            "overflow_y": null,
            "padding": null,
            "right": null,
            "top": null,
            "visibility": null,
            "width": null
          }
        },
        "09d3bcf68d1a40af9f10aea2c4aa6f23": {
          "model_module": "@jupyter-widgets/controls",
          "model_name": "DescriptionStyleModel",
          "model_module_version": "1.5.0",
          "state": {
            "_model_module": "@jupyter-widgets/controls",
            "_model_module_version": "1.5.0",
            "_model_name": "DescriptionStyleModel",
            "_view_count": null,
            "_view_module": "@jupyter-widgets/base",
            "_view_module_version": "1.2.0",
            "_view_name": "StyleView",
            "description_width": ""
          }
        },
        "9ca1781cc8ca4af88b2f290ee104b528": {
          "model_module": "@jupyter-widgets/base",
          "model_name": "LayoutModel",
          "model_module_version": "1.2.0",
          "state": {
            "_model_module": "@jupyter-widgets/base",
            "_model_module_version": "1.2.0",
            "_model_name": "LayoutModel",
            "_view_count": null,
            "_view_module": "@jupyter-widgets/base",
            "_view_module_version": "1.2.0",
            "_view_name": "LayoutView",
            "align_content": null,
            "align_items": null,
            "align_self": null,
            "border": null,
            "bottom": null,
            "display": null,
            "flex": null,
            "flex_flow": null,
            "grid_area": null,
            "grid_auto_columns": null,
            "grid_auto_flow": null,
            "grid_auto_rows": null,
            "grid_column": null,
            "grid_gap": null,
            "grid_row": null,
            "grid_template_areas": null,
            "grid_template_columns": null,
            "grid_template_rows": null,
            "height": null,
            "justify_content": null,
            "justify_items": null,
            "left": null,
            "margin": null,
            "max_height": null,
            "max_width": null,
            "min_height": null,
            "min_width": null,
            "object_fit": null,
            "object_position": null,
            "order": null,
            "overflow": null,
            "overflow_x": null,
            "overflow_y": null,
            "padding": null,
            "right": null,
            "top": null,
            "visibility": null,
            "width": null
          }
        },
        "3741a201a0c548ef94fd63486a70015f": {
          "model_module": "@jupyter-widgets/controls",
          "model_name": "ProgressStyleModel",
          "model_module_version": "1.5.0",
          "state": {
            "_model_module": "@jupyter-widgets/controls",
            "_model_module_version": "1.5.0",
            "_model_name": "ProgressStyleModel",
            "_view_count": null,
            "_view_module": "@jupyter-widgets/base",
            "_view_module_version": "1.2.0",
            "_view_name": "StyleView",
            "bar_color": null,
            "description_width": ""
          }
        },
        "c12bb35a393d4086be624c6d7b1dcbbe": {
          "model_module": "@jupyter-widgets/base",
          "model_name": "LayoutModel",
          "model_module_version": "1.2.0",
          "state": {
            "_model_module": "@jupyter-widgets/base",
            "_model_module_version": "1.2.0",
            "_model_name": "LayoutModel",
            "_view_count": null,
            "_view_module": "@jupyter-widgets/base",
            "_view_module_version": "1.2.0",
            "_view_name": "LayoutView",
            "align_content": null,
            "align_items": null,
            "align_self": null,
            "border": null,
            "bottom": null,
            "display": null,
            "flex": null,
            "flex_flow": null,
            "grid_area": null,
            "grid_auto_columns": null,
            "grid_auto_flow": null,
            "grid_auto_rows": null,
            "grid_column": null,
            "grid_gap": null,
            "grid_row": null,
            "grid_template_areas": null,
            "grid_template_columns": null,
            "grid_template_rows": null,
            "height": null,
            "justify_content": null,
            "justify_items": null,
            "left": null,
            "margin": null,
            "max_height": null,
            "max_width": null,
            "min_height": null,
            "min_width": null,
            "object_fit": null,
            "object_position": null,
            "order": null,
            "overflow": null,
            "overflow_x": null,
            "overflow_y": null,
            "padding": null,
            "right": null,
            "top": null,
            "visibility": null,
            "width": null
          }
        },
        "350ed46080d24078b266b5b04cd20916": {
          "model_module": "@jupyter-widgets/controls",
          "model_name": "DescriptionStyleModel",
          "model_module_version": "1.5.0",
          "state": {
            "_model_module": "@jupyter-widgets/controls",
            "_model_module_version": "1.5.0",
            "_model_name": "DescriptionStyleModel",
            "_view_count": null,
            "_view_module": "@jupyter-widgets/base",
            "_view_module_version": "1.2.0",
            "_view_name": "StyleView",
            "description_width": ""
          }
        },
        "433c9de524c64ff786b096f43b501e63": {
          "model_module": "@jupyter-widgets/controls",
          "model_name": "HBoxModel",
          "model_module_version": "1.5.0",
          "state": {
            "_dom_classes": [],
            "_model_module": "@jupyter-widgets/controls",
            "_model_module_version": "1.5.0",
            "_model_name": "HBoxModel",
            "_view_count": null,
            "_view_module": "@jupyter-widgets/controls",
            "_view_module_version": "1.5.0",
            "_view_name": "HBoxView",
            "box_style": "",
            "children": [
              "IPY_MODEL_2846f949ec2f4ace89b7a6e98b1fe7ad",
              "IPY_MODEL_1c62377893fa42d38e73beed5754b241",
              "IPY_MODEL_7f60002d8bc5408d872e21f95734732f"
            ],
            "layout": "IPY_MODEL_a1ffc5bb0d544a56ad33fd872e875a1e"
          }
        },
        "2846f949ec2f4ace89b7a6e98b1fe7ad": {
          "model_module": "@jupyter-widgets/controls",
          "model_name": "HTMLModel",
          "model_module_version": "1.5.0",
          "state": {
            "_dom_classes": [],
            "_model_module": "@jupyter-widgets/controls",
            "_model_module_version": "1.5.0",
            "_model_name": "HTMLModel",
            "_view_count": null,
            "_view_module": "@jupyter-widgets/controls",
            "_view_module_version": "1.5.0",
            "_view_name": "HTMLView",
            "description": "",
            "description_tooltip": null,
            "layout": "IPY_MODEL_a642ea8131834742846e0899c40b1316",
            "placeholder": "​",
            "style": "IPY_MODEL_c8dfc17a63b24a82880ccc4595d7577e",
            "value": "Downloading data: 100%"
          }
        },
        "1c62377893fa42d38e73beed5754b241": {
          "model_module": "@jupyter-widgets/controls",
          "model_name": "FloatProgressModel",
          "model_module_version": "1.5.0",
          "state": {
            "_dom_classes": [],
            "_model_module": "@jupyter-widgets/controls",
            "_model_module_version": "1.5.0",
            "_model_name": "FloatProgressModel",
            "_view_count": null,
            "_view_module": "@jupyter-widgets/controls",
            "_view_module_version": "1.5.0",
            "_view_name": "ProgressView",
            "bar_style": "success",
            "description": "",
            "description_tooltip": null,
            "layout": "IPY_MODEL_117569bc1aaa415188fe2e937567ba83",
            "max": 2135916754,
            "min": 0,
            "orientation": "horizontal",
            "style": "IPY_MODEL_851c1f40e88e4effb29f67914e9220a2",
            "value": 2135916754
          }
        },
        "7f60002d8bc5408d872e21f95734732f": {
          "model_module": "@jupyter-widgets/controls",
          "model_name": "HTMLModel",
          "model_module_version": "1.5.0",
          "state": {
            "_dom_classes": [],
            "_model_module": "@jupyter-widgets/controls",
            "_model_module_version": "1.5.0",
            "_model_name": "HTMLModel",
            "_view_count": null,
            "_view_module": "@jupyter-widgets/controls",
            "_view_module_version": "1.5.0",
            "_view_name": "HTMLView",
            "description": "",
            "description_tooltip": null,
            "layout": "IPY_MODEL_053d1547653a43b5b6de1449dab431e8",
            "placeholder": "​",
            "style": "IPY_MODEL_cf8fd4794a81444194485d715fc277b7",
            "value": " 2.14G/2.14G [01:09&lt;00:00, 24.2MB/s]"
          }
        },
        "a1ffc5bb0d544a56ad33fd872e875a1e": {
          "model_module": "@jupyter-widgets/base",
          "model_name": "LayoutModel",
          "model_module_version": "1.2.0",
          "state": {
            "_model_module": "@jupyter-widgets/base",
            "_model_module_version": "1.2.0",
            "_model_name": "LayoutModel",
            "_view_count": null,
            "_view_module": "@jupyter-widgets/base",
            "_view_module_version": "1.2.0",
            "_view_name": "LayoutView",
            "align_content": null,
            "align_items": null,
            "align_self": null,
            "border": null,
            "bottom": null,
            "display": null,
            "flex": null,
            "flex_flow": null,
            "grid_area": null,
            "grid_auto_columns": null,
            "grid_auto_flow": null,
            "grid_auto_rows": null,
            "grid_column": null,
            "grid_gap": null,
            "grid_row": null,
            "grid_template_areas": null,
            "grid_template_columns": null,
            "grid_template_rows": null,
            "height": null,
            "justify_content": null,
            "justify_items": null,
            "left": null,
            "margin": null,
            "max_height": null,
            "max_width": null,
            "min_height": null,
            "min_width": null,
            "object_fit": null,
            "object_position": null,
            "order": null,
            "overflow": null,
            "overflow_x": null,
            "overflow_y": null,
            "padding": null,
            "right": null,
            "top": null,
            "visibility": null,
            "width": null
          }
        },
        "a642ea8131834742846e0899c40b1316": {
          "model_module": "@jupyter-widgets/base",
          "model_name": "LayoutModel",
          "model_module_version": "1.2.0",
          "state": {
            "_model_module": "@jupyter-widgets/base",
            "_model_module_version": "1.2.0",
            "_model_name": "LayoutModel",
            "_view_count": null,
            "_view_module": "@jupyter-widgets/base",
            "_view_module_version": "1.2.0",
            "_view_name": "LayoutView",
            "align_content": null,
            "align_items": null,
            "align_self": null,
            "border": null,
            "bottom": null,
            "display": null,
            "flex": null,
            "flex_flow": null,
            "grid_area": null,
            "grid_auto_columns": null,
            "grid_auto_flow": null,
            "grid_auto_rows": null,
            "grid_column": null,
            "grid_gap": null,
            "grid_row": null,
            "grid_template_areas": null,
            "grid_template_columns": null,
            "grid_template_rows": null,
            "height": null,
            "justify_content": null,
            "justify_items": null,
            "left": null,
            "margin": null,
            "max_height": null,
            "max_width": null,
            "min_height": null,
            "min_width": null,
            "object_fit": null,
            "object_position": null,
            "order": null,
            "overflow": null,
            "overflow_x": null,
            "overflow_y": null,
            "padding": null,
            "right": null,
            "top": null,
            "visibility": null,
            "width": null
          }
        },
        "c8dfc17a63b24a82880ccc4595d7577e": {
          "model_module": "@jupyter-widgets/controls",
          "model_name": "DescriptionStyleModel",
          "model_module_version": "1.5.0",
          "state": {
            "_model_module": "@jupyter-widgets/controls",
            "_model_module_version": "1.5.0",
            "_model_name": "DescriptionStyleModel",
            "_view_count": null,
            "_view_module": "@jupyter-widgets/base",
            "_view_module_version": "1.2.0",
            "_view_name": "StyleView",
            "description_width": ""
          }
        },
        "117569bc1aaa415188fe2e937567ba83": {
          "model_module": "@jupyter-widgets/base",
          "model_name": "LayoutModel",
          "model_module_version": "1.2.0",
          "state": {
            "_model_module": "@jupyter-widgets/base",
            "_model_module_version": "1.2.0",
            "_model_name": "LayoutModel",
            "_view_count": null,
            "_view_module": "@jupyter-widgets/base",
            "_view_module_version": "1.2.0",
            "_view_name": "LayoutView",
            "align_content": null,
            "align_items": null,
            "align_self": null,
            "border": null,
            "bottom": null,
            "display": null,
            "flex": null,
            "flex_flow": null,
            "grid_area": null,
            "grid_auto_columns": null,
            "grid_auto_flow": null,
            "grid_auto_rows": null,
            "grid_column": null,
            "grid_gap": null,
            "grid_row": null,
            "grid_template_areas": null,
            "grid_template_columns": null,
            "grid_template_rows": null,
            "height": null,
            "justify_content": null,
            "justify_items": null,
            "left": null,
            "margin": null,
            "max_height": null,
            "max_width": null,
            "min_height": null,
            "min_width": null,
            "object_fit": null,
            "object_position": null,
            "order": null,
            "overflow": null,
            "overflow_x": null,
            "overflow_y": null,
            "padding": null,
            "right": null,
            "top": null,
            "visibility": null,
            "width": null
          }
        },
        "851c1f40e88e4effb29f67914e9220a2": {
          "model_module": "@jupyter-widgets/controls",
          "model_name": "ProgressStyleModel",
          "model_module_version": "1.5.0",
          "state": {
            "_model_module": "@jupyter-widgets/controls",
            "_model_module_version": "1.5.0",
            "_model_name": "ProgressStyleModel",
            "_view_count": null,
            "_view_module": "@jupyter-widgets/base",
            "_view_module_version": "1.2.0",
            "_view_name": "StyleView",
            "bar_color": null,
            "description_width": ""
          }
        },
        "053d1547653a43b5b6de1449dab431e8": {
          "model_module": "@jupyter-widgets/base",
          "model_name": "LayoutModel",
          "model_module_version": "1.2.0",
          "state": {
            "_model_module": "@jupyter-widgets/base",
            "_model_module_version": "1.2.0",
            "_model_name": "LayoutModel",
            "_view_count": null,
            "_view_module": "@jupyter-widgets/base",
            "_view_module_version": "1.2.0",
            "_view_name": "LayoutView",
            "align_content": null,
            "align_items": null,
            "align_self": null,
            "border": null,
            "bottom": null,
            "display": null,
            "flex": null,
            "flex_flow": null,
            "grid_area": null,
            "grid_auto_columns": null,
            "grid_auto_flow": null,
            "grid_auto_rows": null,
            "grid_column": null,
            "grid_gap": null,
            "grid_row": null,
            "grid_template_areas": null,
            "grid_template_columns": null,
            "grid_template_rows": null,
            "height": null,
            "justify_content": null,
            "justify_items": null,
            "left": null,
            "margin": null,
            "max_height": null,
            "max_width": null,
            "min_height": null,
            "min_width": null,
            "object_fit": null,
            "object_position": null,
            "order": null,
            "overflow": null,
            "overflow_x": null,
            "overflow_y": null,
            "padding": null,
            "right": null,
            "top": null,
            "visibility": null,
            "width": null
          }
        },
        "cf8fd4794a81444194485d715fc277b7": {
          "model_module": "@jupyter-widgets/controls",
          "model_name": "DescriptionStyleModel",
          "model_module_version": "1.5.0",
          "state": {
            "_model_module": "@jupyter-widgets/controls",
            "_model_module_version": "1.5.0",
            "_model_name": "DescriptionStyleModel",
            "_view_count": null,
            "_view_module": "@jupyter-widgets/base",
            "_view_module_version": "1.2.0",
            "_view_name": "StyleView",
            "description_width": ""
          }
        },
        "fff0df0efa6e427f83b6285d41712878": {
          "model_module": "@jupyter-widgets/controls",
          "model_name": "HBoxModel",
          "model_module_version": "1.5.0",
          "state": {
            "_dom_classes": [],
            "_model_module": "@jupyter-widgets/controls",
            "_model_module_version": "1.5.0",
            "_model_name": "HBoxModel",
            "_view_count": null,
            "_view_module": "@jupyter-widgets/controls",
            "_view_module_version": "1.5.0",
            "_view_name": "HBoxView",
            "box_style": "",
            "children": [
              "IPY_MODEL_b08309735e564d43a16a509a8af92917",
              "IPY_MODEL_d01b0842318c4e7ea81eae71e8482e7d",
              "IPY_MODEL_0b928a17b8594be2ba2829e932686dc4"
            ],
            "layout": "IPY_MODEL_34fe4ed1c07d4e0dad09a1b0483a5e1f"
          }
        },
        "b08309735e564d43a16a509a8af92917": {
          "model_module": "@jupyter-widgets/controls",
          "model_name": "HTMLModel",
          "model_module_version": "1.5.0",
          "state": {
            "_dom_classes": [],
            "_model_module": "@jupyter-widgets/controls",
            "_model_module_version": "1.5.0",
            "_model_name": "HTMLModel",
            "_view_count": null,
            "_view_module": "@jupyter-widgets/controls",
            "_view_module_version": "1.5.0",
            "_view_name": "HTMLView",
            "description": "",
            "description_tooltip": null,
            "layout": "IPY_MODEL_6ab014c5e21a435eae29729aa4b3d0e8",
            "placeholder": "​",
            "style": "IPY_MODEL_575fe3068a50412f900e4058f61c556b",
            "value": "Generating train split: "
          }
        },
        "d01b0842318c4e7ea81eae71e8482e7d": {
          "model_module": "@jupyter-widgets/controls",
          "model_name": "FloatProgressModel",
          "model_module_version": "1.5.0",
          "state": {
            "_dom_classes": [],
            "_model_module": "@jupyter-widgets/controls",
            "_model_module_version": "1.5.0",
            "_model_name": "FloatProgressModel",
            "_view_count": null,
            "_view_module": "@jupyter-widgets/controls",
            "_view_module_version": "1.5.0",
            "_view_name": "ProgressView",
            "bar_style": "info",
            "description": "",
            "description_tooltip": null,
            "layout": "IPY_MODEL_08589674138a43de90205bdc76425d2a",
            "max": 1,
            "min": 0,
            "orientation": "horizontal",
            "style": "IPY_MODEL_204be84ee2354bfe9144a3bb049d389f",
            "value": 1
          }
        },
        "0b928a17b8594be2ba2829e932686dc4": {
          "model_module": "@jupyter-widgets/controls",
          "model_name": "HTMLModel",
          "model_module_version": "1.5.0",
          "state": {
            "_dom_classes": [],
            "_model_module": "@jupyter-widgets/controls",
            "_model_module_version": "1.5.0",
            "_model_name": "HTMLModel",
            "_view_count": null,
            "_view_module": "@jupyter-widgets/controls",
            "_view_module_version": "1.5.0",
            "_view_name": "HTMLView",
            "description": "",
            "description_tooltip": null,
            "layout": "IPY_MODEL_0e8a20c314d74ffca63ff3cec2cf43d2",
            "placeholder": "​",
            "style": "IPY_MODEL_90aa8482342d4626a88492fa907d27ef",
            "value": " 24555/0 [01:43&lt;00:00, 396.90 examples/s]"
          }
        },
        "34fe4ed1c07d4e0dad09a1b0483a5e1f": {
          "model_module": "@jupyter-widgets/base",
          "model_name": "LayoutModel",
          "model_module_version": "1.2.0",
          "state": {
            "_model_module": "@jupyter-widgets/base",
            "_model_module_version": "1.2.0",
            "_model_name": "LayoutModel",
            "_view_count": null,
            "_view_module": "@jupyter-widgets/base",
            "_view_module_version": "1.2.0",
            "_view_name": "LayoutView",
            "align_content": null,
            "align_items": null,
            "align_self": null,
            "border": null,
            "bottom": null,
            "display": null,
            "flex": null,
            "flex_flow": null,
            "grid_area": null,
            "grid_auto_columns": null,
            "grid_auto_flow": null,
            "grid_auto_rows": null,
            "grid_column": null,
            "grid_gap": null,
            "grid_row": null,
            "grid_template_areas": null,
            "grid_template_columns": null,
            "grid_template_rows": null,
            "height": null,
            "justify_content": null,
            "justify_items": null,
            "left": null,
            "margin": null,
            "max_height": null,
            "max_width": null,
            "min_height": null,
            "min_width": null,
            "object_fit": null,
            "object_position": null,
            "order": null,
            "overflow": null,
            "overflow_x": null,
            "overflow_y": null,
            "padding": null,
            "right": null,
            "top": null,
            "visibility": null,
            "width": null
          }
        },
        "6ab014c5e21a435eae29729aa4b3d0e8": {
          "model_module": "@jupyter-widgets/base",
          "model_name": "LayoutModel",
          "model_module_version": "1.2.0",
          "state": {
            "_model_module": "@jupyter-widgets/base",
            "_model_module_version": "1.2.0",
            "_model_name": "LayoutModel",
            "_view_count": null,
            "_view_module": "@jupyter-widgets/base",
            "_view_module_version": "1.2.0",
            "_view_name": "LayoutView",
            "align_content": null,
            "align_items": null,
            "align_self": null,
            "border": null,
            "bottom": null,
            "display": null,
            "flex": null,
            "flex_flow": null,
            "grid_area": null,
            "grid_auto_columns": null,
            "grid_auto_flow": null,
            "grid_auto_rows": null,
            "grid_column": null,
            "grid_gap": null,
            "grid_row": null,
            "grid_template_areas": null,
            "grid_template_columns": null,
            "grid_template_rows": null,
            "height": null,
            "justify_content": null,
            "justify_items": null,
            "left": null,
            "margin": null,
            "max_height": null,
            "max_width": null,
            "min_height": null,
            "min_width": null,
            "object_fit": null,
            "object_position": null,
            "order": null,
            "overflow": null,
            "overflow_x": null,
            "overflow_y": null,
            "padding": null,
            "right": null,
            "top": null,
            "visibility": null,
            "width": null
          }
        },
        "575fe3068a50412f900e4058f61c556b": {
          "model_module": "@jupyter-widgets/controls",
          "model_name": "DescriptionStyleModel",
          "model_module_version": "1.5.0",
          "state": {
            "_model_module": "@jupyter-widgets/controls",
            "_model_module_version": "1.5.0",
            "_model_name": "DescriptionStyleModel",
            "_view_count": null,
            "_view_module": "@jupyter-widgets/base",
            "_view_module_version": "1.2.0",
            "_view_name": "StyleView",
            "description_width": ""
          }
        },
        "08589674138a43de90205bdc76425d2a": {
          "model_module": "@jupyter-widgets/base",
          "model_name": "LayoutModel",
          "model_module_version": "1.2.0",
          "state": {
            "_model_module": "@jupyter-widgets/base",
            "_model_module_version": "1.2.0",
            "_model_name": "LayoutModel",
            "_view_count": null,
            "_view_module": "@jupyter-widgets/base",
            "_view_module_version": "1.2.0",
            "_view_name": "LayoutView",
            "align_content": null,
            "align_items": null,
            "align_self": null,
            "border": null,
            "bottom": null,
            "display": null,
            "flex": null,
            "flex_flow": null,
            "grid_area": null,
            "grid_auto_columns": null,
            "grid_auto_flow": null,
            "grid_auto_rows": null,
            "grid_column": null,
            "grid_gap": null,
            "grid_row": null,
            "grid_template_areas": null,
            "grid_template_columns": null,
            "grid_template_rows": null,
            "height": null,
            "justify_content": null,
            "justify_items": null,
            "left": null,
            "margin": null,
            "max_height": null,
            "max_width": null,
            "min_height": null,
            "min_width": null,
            "object_fit": null,
            "object_position": null,
            "order": null,
            "overflow": null,
            "overflow_x": null,
            "overflow_y": null,
            "padding": null,
            "right": null,
            "top": null,
            "visibility": null,
            "width": "20px"
          }
        },
        "204be84ee2354bfe9144a3bb049d389f": {
          "model_module": "@jupyter-widgets/controls",
          "model_name": "ProgressStyleModel",
          "model_module_version": "1.5.0",
          "state": {
            "_model_module": "@jupyter-widgets/controls",
            "_model_module_version": "1.5.0",
            "_model_name": "ProgressStyleModel",
            "_view_count": null,
            "_view_module": "@jupyter-widgets/base",
            "_view_module_version": "1.2.0",
            "_view_name": "StyleView",
            "bar_color": null,
            "description_width": ""
          }
        },
        "0e8a20c314d74ffca63ff3cec2cf43d2": {
          "model_module": "@jupyter-widgets/base",
          "model_name": "LayoutModel",
          "model_module_version": "1.2.0",
          "state": {
            "_model_module": "@jupyter-widgets/base",
            "_model_module_version": "1.2.0",
            "_model_name": "LayoutModel",
            "_view_count": null,
            "_view_module": "@jupyter-widgets/base",
            "_view_module_version": "1.2.0",
            "_view_name": "LayoutView",
            "align_content": null,
            "align_items": null,
            "align_self": null,
            "border": null,
            "bottom": null,
            "display": null,
            "flex": null,
            "flex_flow": null,
            "grid_area": null,
            "grid_auto_columns": null,
            "grid_auto_flow": null,
            "grid_auto_rows": null,
            "grid_column": null,
            "grid_gap": null,
            "grid_row": null,
            "grid_template_areas": null,
            "grid_template_columns": null,
            "grid_template_rows": null,
            "height": null,
            "justify_content": null,
            "justify_items": null,
            "left": null,
            "margin": null,
            "max_height": null,
            "max_width": null,
            "min_height": null,
            "min_width": null,
            "object_fit": null,
            "object_position": null,
            "order": null,
            "overflow": null,
            "overflow_x": null,
            "overflow_y": null,
            "padding": null,
            "right": null,
            "top": null,
            "visibility": null,
            "width": null
          }
        },
        "90aa8482342d4626a88492fa907d27ef": {
          "model_module": "@jupyter-widgets/controls",
          "model_name": "DescriptionStyleModel",
          "model_module_version": "1.5.0",
          "state": {
            "_model_module": "@jupyter-widgets/controls",
            "_model_module_version": "1.5.0",
            "_model_name": "DescriptionStyleModel",
            "_view_count": null,
            "_view_module": "@jupyter-widgets/base",
            "_view_module_version": "1.2.0",
            "_view_name": "StyleView",
            "description_width": ""
          }
        }
      }
    }
  },
  "cells": [
    {
      "cell_type": "markdown",
      "metadata": {
        "id": "view-in-github",
        "colab_type": "text"
      },
      "source": [
        "<a href=\"https://colab.research.google.com/github/liquidx/ml/blob/main/Mobile_GANs.ipynb\" target=\"_parent\"><img src=\"https://colab.research.google.com/assets/colab-badge.svg\" alt=\"Open In Colab\"/></a>"
      ]
    },
    {
      "cell_type": "markdown",
      "source": [
        "A notebook to practice building a GAN for mobile screenshots based on:\n",
        "\n",
        "* [ncoop57/rico_captions](https://huggingface.co/datasets/ncoop57/rico_captions)\n",
        "* https://youtu.be/AALBGpLbj6Q\n",
        "* https://machinelearningmastery.com/how-to-develop-a-generative-adversarial-network-for-a-cifar-10-small-object-photographs-from-scratch/\n",
        "\n",
        "To read:\n",
        "* https://www.tensorflow.org/tutorials/generative/dcgan\n",
        "\n",
        "\n",
        "Saving & Loading Checkpoints\n",
        "* https://machinelearningmastery.com/check-point-deep-learning-models-keras/\n",
        "* https://colab.research.google.com/github/tensorflow/docs/blob/master/site/en/tutorials/keras/save_and_load.ipynb\n",
        "\n"
      ],
      "metadata": {
        "id": "AoE0a1__isc-"
      }
    },
    {
      "cell_type": "markdown",
      "source": [
        "## 1 Dependencies"
      ],
      "metadata": {
        "id": "KvKUwYJrGP57"
      }
    },
    {
      "cell_type": "code",
      "execution_count": 4,
      "metadata": {
        "id": "m2MzHA_t7OgO",
        "colab": {
          "base_uri": "https://localhost:8080/"
        },
        "outputId": "bc07083d-5213-42f8-a596-8059fd6d54cb"
      },
      "outputs": [
        {
          "output_type": "stream",
          "name": "stdout",
          "text": [
            "\u001b[K     |████████████████████████████████| 365 kB 4.6 MB/s \n",
            "\u001b[K     |████████████████████████████████| 4.7 MB 53.3 MB/s \n",
            "\u001b[K     |████████████████████████████████| 235 kB 71.3 MB/s \n",
            "\u001b[K     |████████████████████████████████| 141 kB 50.9 MB/s \n",
            "\u001b[K     |████████████████████████████████| 101 kB 11.4 MB/s \n",
            "\u001b[K     |████████████████████████████████| 212 kB 44.9 MB/s \n",
            "\u001b[K     |████████████████████████████████| 115 kB 60.3 MB/s \n",
            "\u001b[K     |████████████████████████████████| 596 kB 61.9 MB/s \n",
            "\u001b[K     |████████████████████████████████| 127 kB 71.7 MB/s \n",
            "\u001b[K     |████████████████████████████████| 6.6 MB 47.5 MB/s \n",
            "\u001b[K     |████████████████████████████████| 51 kB 5.6 MB/s \n",
            "\u001b[?25h"
          ]
        }
      ],
      "source": [
        "!pip -q install datasets transformers pillow rich "
      ]
    },
    {
      "cell_type": "code",
      "source": [
        "import os\n",
        "import numpy as np\n",
        "import PIL\n",
        "import PIL.Image\n",
        "import pathlib\n",
        "\n",
        "import matplotlib.pyplot as plt\n",
        "import tensorflow as tf\n",
        "from tensorflow.keras.utils import image_dataset_from_directory\n",
        "\n",
        "from datasets import load_dataset\n",
        "from datasets import Image\n",
        "from rich import inspect\n",
        "from transformers import DataCollatorWithPadding\n"
      ],
      "metadata": {
        "id": "W_ecZpRI7lgh"
      },
      "execution_count": 5,
      "outputs": []
    },
    {
      "cell_type": "code",
      "source": [
        "HAS_COLAB = False\n",
        "try:\n",
        "  import google.colab\n",
        "  HAS_COLAB = True\n",
        "except ImportError:\n",
        "  pass\n"
      ],
      "metadata": {
        "id": "mG3_AozjcDSN"
      },
      "execution_count": 1,
      "outputs": []
    },
    {
      "cell_type": "code",
      "source": [
        "CHECKPOINTS_DIR = './checkpoints'\n",
        "if HAS_COLAB:\n",
        "  google.colab.drive.mount('/content/drive')\n",
        "  CHECKPOINTS_DIR = '/content/drive/MyDrive/ML/checkpoints/mobilegan'\n"
      ],
      "metadata": {
        "colab": {
          "base_uri": "https://localhost:8080/"
        },
        "id": "U685Wyakcw2U",
        "outputId": "435a22bd-b251-4c6a-fee0-8c9667cd5f89"
      },
      "execution_count": 39,
      "outputs": [
        {
          "output_type": "stream",
          "name": "stdout",
          "text": [
            "Drive already mounted at /content/drive; to attempt to forcibly remount, call drive.mount(\"/content/drive\", force_remount=True).\n"
          ]
        }
      ]
    },
    {
      "cell_type": "markdown",
      "source": [
        "## 2 Initialize"
      ],
      "metadata": {
        "id": "9QKjpUNPGVgY"
      }
    },
    {
      "cell_type": "code",
      "source": [
        "# Bringing in tensorflow\n",
        "gpus = tf.config.experimental.list_physical_devices('GPU')\n",
        "for gpu in gpus: \n",
        "    tf.config.experimental.set_memory_growth(gpu, True)\n",
        "gpus    "
      ],
      "metadata": {
        "colab": {
          "base_uri": "https://localhost:8080/"
        },
        "id": "lrxUAF7Wlb-5",
        "outputId": "2f8148a0-c974-4a01-e18d-7fea985e2115"
      },
      "execution_count": 6,
      "outputs": [
        {
          "output_type": "execute_result",
          "data": {
            "text/plain": [
              "[PhysicalDevice(name='/physical_device:GPU:0', device_type='GPU')]"
            ]
          },
          "metadata": {},
          "execution_count": 6
        }
      ]
    },
    {
      "cell_type": "code",
      "source": [
        "\n",
        "seed = 123\n",
        "image_size = (64, 32)\n",
        "channels = 3\n",
        "latent_vector_z = 100\n",
        "\n",
        "batch_size = 128\n",
        "buffer_size = 50000\n",
        "prefetch_size = 64"
      ],
      "metadata": {
        "id": "7ruUEzkWld_T"
      },
      "execution_count": 7,
      "outputs": []
    },
    {
      "cell_type": "markdown",
      "source": [
        "## 3 Load Dataset"
      ],
      "metadata": {
        "id": "nHmcNSuBGZLC"
      }
    },
    {
      "cell_type": "code",
      "source": [
        "rico_dataset = load_dataset(\"ncoop57/rico_captions\", split=\"train\")\n",
        "\n",
        "# Convert to TensorFlow compat data set\n",
        "# rico_dataset_tf = rico_dataset.to_tf_dataset(columns=['screenshot_path'], batch_size=batch_size, shuffle=True)\n",
        "\n",
        "# Load images and normalize using HF Datasets\n",
        "# This is hugely inefficient since it tries to load them all rather than only\n",
        "# when we use them.\n",
        "# def hfd_load_image_and_normalize(row):\n",
        "#   img = tf.keras.utils.load_img(row['screenshot_path'], \n",
        "#                                 grayscale=False, \n",
        "#                                 color_mode='rgb', \n",
        "#                                 target_size=image_size)\n",
        "#   data = tf.keras.preprocessing.image.img_to_array(img)\n",
        "#   row['image'] = data / 255.0\n",
        "#   return row\n",
        "\n",
        "# rico_dataset = rico_dataset.map(hfd_load_image_and_normalize)\n"
      ],
      "metadata": {
        "colab": {
          "base_uri": "https://localhost:8080/",
          "height": 0,
          "referenced_widgets": [
            "05b8ed4e13d14b4da86c7c7ecab2bf3f",
            "5f775b005b0c4103a8e47d1060adc5f7",
            "0b18239855a148fc90decdbd3109bff7",
            "26bc280f279945cd8f293fb43e878dc7",
            "e767dbefa24d4e088cc7dfe82128e654",
            "d4a7e2422d5140c9b192e998e29755a7",
            "09d3bcf68d1a40af9f10aea2c4aa6f23",
            "9ca1781cc8ca4af88b2f290ee104b528",
            "3741a201a0c548ef94fd63486a70015f",
            "c12bb35a393d4086be624c6d7b1dcbbe",
            "350ed46080d24078b266b5b04cd20916",
            "433c9de524c64ff786b096f43b501e63",
            "2846f949ec2f4ace89b7a6e98b1fe7ad",
            "1c62377893fa42d38e73beed5754b241",
            "7f60002d8bc5408d872e21f95734732f",
            "a1ffc5bb0d544a56ad33fd872e875a1e",
            "a642ea8131834742846e0899c40b1316",
            "c8dfc17a63b24a82880ccc4595d7577e",
            "117569bc1aaa415188fe2e937567ba83",
            "851c1f40e88e4effb29f67914e9220a2",
            "053d1547653a43b5b6de1449dab431e8",
            "cf8fd4794a81444194485d715fc277b7",
            "fff0df0efa6e427f83b6285d41712878",
            "b08309735e564d43a16a509a8af92917",
            "d01b0842318c4e7ea81eae71e8482e7d",
            "0b928a17b8594be2ba2829e932686dc4",
            "34fe4ed1c07d4e0dad09a1b0483a5e1f",
            "6ab014c5e21a435eae29729aa4b3d0e8",
            "575fe3068a50412f900e4058f61c556b",
            "08589674138a43de90205bdc76425d2a",
            "204be84ee2354bfe9144a3bb049d389f",
            "0e8a20c314d74ffca63ff3cec2cf43d2",
            "90aa8482342d4626a88492fa907d27ef"
          ]
        },
        "id": "HljPAQyV7tFQ",
        "outputId": "3e1bedd3-686a-4c14-dd7d-9df7b336a521"
      },
      "execution_count": 8,
      "outputs": [
        {
          "output_type": "display_data",
          "data": {
            "text/plain": [
              "Downloading builder script:   0%|          | 0.00/6.52k [00:00<?, ?B/s]"
            ],
            "application/vnd.jupyter.widget-view+json": {
              "version_major": 2,
              "version_minor": 0,
              "model_id": "05b8ed4e13d14b4da86c7c7ecab2bf3f"
            }
          },
          "metadata": {}
        },
        {
          "output_type": "stream",
          "name": "stderr",
          "text": [
            "WARNING:datasets.builder:No config specified, defaulting to: rico_captions/screenshots_captions_filtered\n"
          ]
        },
        {
          "output_type": "stream",
          "name": "stdout",
          "text": [
            "Downloading and preparing dataset rico_captions/screenshots_captions_filtered to /root/.cache/huggingface/datasets/ncoop57___rico_captions/screenshots_captions_filtered/1.1.0/6cc0546713955bddd15fe67b51242fc34d6aed4607c7d267d80f83204506db1e...\n"
          ]
        },
        {
          "output_type": "display_data",
          "data": {
            "text/plain": [
              "Downloading data:   0%|          | 0.00/2.14G [00:00<?, ?B/s]"
            ],
            "application/vnd.jupyter.widget-view+json": {
              "version_major": 2,
              "version_minor": 0,
              "model_id": "433c9de524c64ff786b096f43b501e63"
            }
          },
          "metadata": {}
        },
        {
          "output_type": "display_data",
          "data": {
            "text/plain": [
              "Generating train split: 0 examples [00:00, ? examples/s]"
            ],
            "application/vnd.jupyter.widget-view+json": {
              "version_major": 2,
              "version_minor": 0,
              "model_id": "fff0df0efa6e427f83b6285d41712878"
            }
          },
          "metadata": {}
        },
        {
          "output_type": "stream",
          "name": "stdout",
          "text": [
            "Dataset rico_captions downloaded and prepared to /root/.cache/huggingface/datasets/ncoop57___rico_captions/screenshots_captions_filtered/1.1.0/6cc0546713955bddd15fe67b51242fc34d6aed4607c7d267d80f83204506db1e. Subsequent calls will reuse this data.\n"
          ]
        }
      ]
    },
    {
      "cell_type": "code",
      "source": [
        "# Loading using standard keras utils\n",
        "\n",
        "def scale_images(image):\n",
        "  \"\"\"Normalize RGB values to 0-1\"\"\"\n",
        "  return image / 255.0\n",
        "\n",
        "\n",
        "def load_using_keras_dataset(dirname):\n",
        "  \"\"\"\n",
        "  This will already do batching/shuffling/prefetch\n",
        "  https://github.com/keras-team/keras/blob/v2.9.0/keras/utils/image_dataset.py#L29-L235\n",
        "  \"\"\"\n",
        "  ds = image_dataset_from_directory(dirname, \n",
        "                                    labels=None,\n",
        "                                    color_mode=\"rgb\",\n",
        "                                    shuffle=True,\n",
        "                                    image_size=image_size,\n",
        "                                    batch_size=batch_size)\n",
        "  return ds.map(scale_images)\n",
        "  \n",
        "#\n",
        "# Functions for loading manually from the paths.\n",
        "#\n",
        "\n",
        "def load_image_and_normalize(path):\n",
        "  print(path.eval())\n",
        "  img = tf.keras.utils.load_img(path, grayscale=False, color_mode='rgb', target_size=image_size)\n",
        "  data = tf.keras.preprocessing.image.img_to_array(img)\n",
        "  return data / 255.0\n",
        "\n",
        "def load_manually(dataset):\n",
        "  ds = dataset\n",
        "  ds = ds.map(load_image_and_normalize)\n",
        "  # The dataset is already batched and shuffled\n",
        "  ds = ds.cache()\n",
        "  ds = ds.shuffle(buffer_size)\n",
        "  # Batches 128 images per sample\n",
        "  ds = ds.batch(batch_size)\n",
        "  # Reduces bottlenecking\n",
        "  ds = ds.prefetch(prefetch_size)\n",
        "  return ds\n"
      ],
      "metadata": {
        "id": "tCwmX4yt75oH"
      },
      "execution_count": 9,
      "outputs": []
    },
    {
      "cell_type": "code",
      "source": [
        "screenshot_dir = os.path.dirname(rico_dataset[0][\"screenshot_path\"])\n",
        "ds = load_using_keras_dataset(screenshot_dir)\n",
        "# ds = load_manually(rico_dataset)"
      ],
      "metadata": {
        "colab": {
          "base_uri": "https://localhost:8080/"
        },
        "id": "QEuYh_KMrRsM",
        "outputId": "5ff6f158-1978-41f5-8a70-b093c12fc2f0"
      },
      "execution_count": 10,
      "outputs": [
        {
          "output_type": "stream",
          "name": "stdout",
          "text": [
            "Found 24598 files belonging to 1 classes.\n"
          ]
        }
      ]
    },
    {
      "cell_type": "code",
      "source": [
        "ds.take(1).element_spec"
      ],
      "metadata": {
        "id": "QseOMi2YDMXU",
        "colab": {
          "base_uri": "https://localhost:8080/"
        },
        "outputId": "6378617c-a359-4acf-fc84-d3ede88169d4"
      },
      "execution_count": 11,
      "outputs": [
        {
          "output_type": "execute_result",
          "data": {
            "text/plain": [
              "TensorSpec(shape=(None, 64, 32, 3), dtype=tf.float32, name=None)"
            ]
          },
          "metadata": {},
          "execution_count": 11
        }
      ]
    },
    {
      "cell_type": "markdown",
      "source": [
        "## 4 Inspect Dataset"
      ],
      "metadata": {
        "id": "n94QgbXgGb6B"
      }
    },
    {
      "cell_type": "code",
      "source": [
        "# Quick wat to visualize\n",
        "data_iterator = ds.as_numpy_iterator()\n",
        "plot_count = 4\n",
        "fig, ax = plt.subplots(ncols=plot_count, figsize=(20, 10))\n",
        "# gets a batch (which will be batch size)\n",
        "batch = data_iterator.next()\n",
        "print(batch.shape)\n",
        "\n",
        "for i in range(plot_count):\n",
        "  ax[i].imshow(np.squeeze(batch[i]))\n"
      ],
      "metadata": {
        "colab": {
          "base_uri": "https://localhost:8080/",
          "height": 0
        },
        "id": "-s1WkVCde_eD",
        "outputId": "2754a041-6ce3-40f5-8dc5-50dc23f29898"
      },
      "execution_count": 12,
      "outputs": [
        {
          "output_type": "stream",
          "name": "stdout",
          "text": [
            "(128, 64, 32, 3)\n"
          ]
        },
        {
          "output_type": "display_data",
          "data": {
            "text/plain": [
              "<Figure size 1440x720 with 4 Axes>"
            ],
            "image/png": "[encoded data removed]"
          },
          "metadata": {
            "needs_background": "light"
          }
        }
      ]
    },
    {
      "cell_type": "code",
      "source": [
        "# Visualize what we've loaded\n",
        "plt.figure(figsize=(10, 10))\n",
        "for images in ds.take(1):  \n",
        "  for i in range(9):\n",
        "    ax = plt.subplot(3, 3, i + 1)\n",
        "    #plt.imshow(images[i].numpy().astype(\"uint8\"))\n",
        "    plt.imshow(images[i].numpy())\n",
        "    plt.axis(\"off\")"
      ],
      "metadata": {
        "colab": {
          "base_uri": "https://localhost:8080/",
          "height": 0
        },
        "id": "l8TxGf--9EDJ",
        "outputId": "d7c467d9-7393-456c-cca4-ad8ae19b1cd1"
      },
      "execution_count": 13,
      "outputs": [
        {
          "output_type": "display_data",
          "data": {
            "text/plain": [
              "<Figure size 720x720 with 9 Axes>"
            ],
            "image/png": "[encoded data removed]"
          },
          "metadata": {
            "needs_background": "light"
          }
        }
      ]
    },
    {
      "cell_type": "markdown",
      "source": [
        "## 5. Generator"
      ],
      "metadata": {
        "id": "4lO1XsYLmJOx"
      }
    },
    {
      "cell_type": "code",
      "source": [
        "from tensorflow.keras.models import Sequential\n",
        "from tensorflow.keras.layers import Conv2D, Dense, Flatten, Reshape, LeakyReLU, Dropout, UpSampling2D, Conv2DTranspose\n",
        "from tensorflow.keras.optimizers import Adam\n",
        "from tensorflow.keras.losses import BinaryCrossentropy\n",
        "from tensorflow.keras.models import load_model\n",
        "\n",
        "# For subclassing\n",
        "from tensorflow.keras.models import Model\n",
        "# For ModelMonitor Callback\n",
        "from tensorflow.keras.preprocessing.image import array_to_img\n",
        "from tensorflow.keras.callbacks import Callback\n",
        "\n"
      ],
      "metadata": {
        "id": "A61r3x0p-dxO"
      },
      "execution_count": 14,
      "outputs": []
    },
    {
      "cell_type": "code",
      "source": [
        "# https://machinelearningmastery.com/how-to-develop-a-generative-adversarial-network-for-a-cifar-10-small-object-photographs-from-scratch/\n",
        "\n",
        "def build_generator_c2(latent_dim):\n",
        "  \"\"\"\n",
        "  The generator will go from 8x4 to 16x8 to 32x16 to 64x32.\n",
        "\n",
        "  \"\"\"\n",
        "  model = Sequential()\n",
        "\n",
        "  n = 256 \n",
        "  n_nodes = n * 8 * 4\n",
        "\n",
        "  # First hidden layer has enough nodes to represent a low\n",
        "  # rest version of the output image.\n",
        "  model.add(Dense(n_nodes, input_dim=latent_dim))\n",
        "  model.add(LeakyReLU(alpha=0.2))\n",
        "  model.add(Reshape((8, 4, n)))\n",
        "\n",
        "  # Upsample from 8x4 to 16x8\n",
        "  model.add(Conv2DTranspose(n, (8, 4), strides=(2, 2), padding='same'))\n",
        "  model.add(LeakyReLU(alpha=0.2))\n",
        "\n",
        "\n",
        "  # Upsample from 16x8 to 32x16\n",
        "  model.add(Conv2DTranspose(n, (8, 4), strides=(2, 2), padding='same'))\n",
        "  model.add(LeakyReLU(alpha=0.2))\n",
        "\n",
        "  # Upsample from 32x16 to 64x32\n",
        "  model.add(Conv2DTranspose(n, (8, 4), strides=(2, 2), padding='same'))\n",
        "  model.add(LeakyReLU(alpha=0.2))\n",
        "\n",
        "  model.add(Conv2D(3, (3,3), activation='sigmoid', padding='same'))\n",
        "  return model\n"
      ],
      "metadata": {
        "id": "wQY8Od0g-xci"
      },
      "execution_count": 15,
      "outputs": []
    },
    {
      "cell_type": "code",
      "source": [
        "def build_generator(latent_dim):\n",
        "  \"\"\"\n",
        "  Generator from https://youtu.be/AALBGpLbj6Q\n",
        "\n",
        "  This is imilar to the other generator but it\n",
        "  contains some extra layers to do convolutions.\n",
        "  \"\"\"\n",
        "  model = Sequential()\n",
        "\n",
        "  # First hidden layer has enough nodes to represent a low\n",
        "  # rest version of the output image.\n",
        "  n = 256 \n",
        "  n_nodes = n * 8 * 4\n",
        "  model.add(Dense(n_nodes, input_dim=latent_dim))\n",
        "  model.add(LeakyReLU(alpha=0.2))\n",
        "  model.add(Reshape((8, 4, n)))\n",
        "\n",
        "  # Upsampling Block 1\n",
        "  # Upsampling the lower res to a higher res (deconvolution)\n",
        "  model.add(UpSampling2D())\n",
        "  model.add(Conv2D(n, 5, padding='same'))\n",
        "  model.add(LeakyReLU(alpha=0.2))\n",
        "\n",
        "  # Upsampling Block 2\n",
        "  model.add(UpSampling2D())\n",
        "  model.add(Conv2D(n, 5, padding='same'))\n",
        "  model.add(LeakyReLU(alpha=0.2))\n",
        "\n",
        " # Upsampling Block 3\n",
        "  model.add(UpSampling2D())\n",
        "  model.add(Conv2D(n, 4, padding='same'))\n",
        "  model.add(LeakyReLU(alpha=0.2))\n",
        "\n",
        "  # Convolution block 1\n",
        "  # Only in Nicholas' tutorial\n",
        "  model.add(Conv2D(n, 4, padding='same'))\n",
        "  model.add(LeakyReLU(alpha=0.2))\n",
        "\n",
        "  # Convolution block 2\n",
        "  # Only in Nicholas' tutorial\n",
        "  model.add(Conv2D(n, 4, padding='same'))\n",
        "  model.add(LeakyReLU(alpha=0.2))\n",
        "  \n",
        "  model.add(Conv2D(3, (3,3), activation='sigmoid', padding='same'))\n",
        "  return model\n"
      ],
      "metadata": {
        "id": "_QZwhyCetp53"
      },
      "execution_count": 16,
      "outputs": []
    },
    {
      "cell_type": "code",
      "source": [
        "# generate points in latent space as input for the generator\n",
        "def generate_latent_points(latent_dim, n_samples):\n",
        "\t# generate points in the latent space\n",
        "\tx_input = np.random.randn(latent_dim * n_samples)\n",
        "\t# reshape into a batch of inputs for the network\n",
        "\tx_input = x_input.reshape(n_samples, latent_dim)\n",
        "\treturn x_input"
      ],
      "metadata": {
        "id": "-bmYo1stxeXB"
      },
      "execution_count": 17,
      "outputs": []
    },
    {
      "cell_type": "code",
      "source": [
        "def generate_fake_samples(generator_model, latent_dim, img_count):\n",
        "  seed = generate_latent_points(latent_dim, img_count)\n",
        "  imgs = generator_model.predict(seed)\n",
        "  return imgs"
      ],
      "metadata": {
        "id": "bkexGtKqyiot"
      },
      "execution_count": 18,
      "outputs": []
    },
    {
      "cell_type": "code",
      "source": [
        "def generate_and_show(g_model):\n",
        "  img_count = 4\n",
        "  imgs = generate_fake_samples(g_model, latent_dim, img_count)\n",
        "  fig, ax = plt.subplots(ncols=img_count, figsize=(20, 10))\n",
        "  for i, img in enumerate(imgs):\n",
        "    ax[i].imshow(np.squeeze(img))\n",
        "\n"
      ],
      "metadata": {
        "id": "k9Mn4Me0p2F4"
      },
      "execution_count": 19,
      "outputs": []
    },
    {
      "cell_type": "markdown",
      "source": [
        "## 6. Discriminator"
      ],
      "metadata": {
        "id": "a0Tqc0_dy_03"
      }
    },
    {
      "cell_type": "code",
      "source": [
        "def build_discriminator(in_shape=(64, 32, 3)):\n",
        "  model = Sequential()\n",
        "\n",
        "  # Normal\n",
        "  model.add(Conv2D(64, 5, input_shape=in_shape))\n",
        "  model.add(LeakyReLU(alpha=0.2))\n",
        "  model.add(Dropout(0.4)) \n",
        "\n",
        "  model.add(Conv2D(128, 5))\n",
        "  model.add(LeakyReLU(alpha=0.2))\n",
        "  model.add(Dropout(0.4))\n",
        "\n",
        "  model.add(Conv2D(128, 5))\n",
        "  model.add(LeakyReLU(alpha=0.2))\n",
        "  model.add(Dropout(0.4))\n",
        "\n",
        "\n",
        "  model.add(Conv2D(256, 8))\n",
        "  model.add(LeakyReLU(alpha=0.2))\n",
        "  model.add(Dropout(0.4))\n",
        "\n",
        "  model.add(Flatten())\n",
        "  model.add(Dropout(0.4)) \n",
        "  model.add(Dense(1, activation='sigmoid'))\n",
        "\n",
        "  return model"
      ],
      "metadata": {
        "id": "D-VWV1PMvPyY"
      },
      "execution_count": 20,
      "outputs": []
    },
    {
      "cell_type": "code",
      "source": [
        "\n",
        "# https://machinelearningmastery.com/how-to-develop-a-generative-adversarial-network-for-a-cifar-10-small-object-photographs-from-scratch/\n",
        "def build_discriminator_c2(in_shape=(64, 32, 3)):\n",
        "  model = Sequential()\n",
        "\n",
        "  # Normal\n",
        "  model.add(Conv2D(64, (3,3), padding='same', input_shape=in_shape))\n",
        "  model.add(LeakyReLU(alpha=0.2))\n",
        "\n",
        "  # Downsample\n",
        "  model.add(Conv2D(128, (3,3), strides=(2,2), padding='same'))\n",
        "  model.add(LeakyReLU(alpha=0.2))\n",
        "\n",
        "  model.add(Conv2D(128, (3,3), strides=(2,2), padding='same'))\n",
        "  model.add(LeakyReLU(alpha=0.2))\n",
        "\n",
        "  model.add(Conv2D(256, (3,3), strides=(2,2), padding='same'))\n",
        "  model.add(LeakyReLU(alpha=0.2))\n",
        "\n",
        "  # Classifier\n",
        "  model.add(Flatten())\n",
        "  model.add(Dropout(0.4)) \n",
        "  model.add(Dense(1, activation='sigmoid'))\n",
        "  return model"
      ],
      "metadata": {
        "id": "SivFx_RyziwK"
      },
      "execution_count": 21,
      "outputs": []
    },
    {
      "cell_type": "code",
      "source": [
        "def test_discriminator():\n",
        "  discriminator = build_discriminator_c2()\n",
        "  #discriminator.summary()\n",
        "  discriminator.predict(imgs)"
      ],
      "metadata": {
        "id": "31oPW1yR0ZFX"
      },
      "execution_count": 22,
      "outputs": []
    },
    {
      "cell_type": "markdown",
      "source": [
        ""
      ],
      "metadata": {
        "id": "o9UzvrTmGthC"
      }
    },
    {
      "cell_type": "markdown",
      "source": [
        "## 7. GAN Model\n"
      ],
      "metadata": {
        "id": "m4s6OJi53m8S"
      }
    },
    {
      "cell_type": "code",
      "source": [
        "class MobileGAN(Model):\n",
        "  def __init__(self, generator, discriminator, latent_dim, *args, **kwargs):\n",
        "    super().__init__(*args, **kwargs)\n",
        "    self.generator = generator\n",
        "    self.discriminator = discriminator\n",
        "    self.latent_dim = latent_dim\n",
        "\n",
        "  def compile(self, g_opt, d_opt, g_loss, d_loss, *args, **kwargs):\n",
        "    super().compile(*args, **kwargs)\n",
        "    self.g_opt = g_opt\n",
        "    self.d_opt = d_opt\n",
        "    self.g_loss = g_loss\n",
        "    self.d_loss = d_loss\n",
        "\n",
        "  def compile_submodels(self):\n",
        "    \"\"\"Further compile the submodels manually.\"\"\"\n",
        "    # Because the generator is not trained, we don't need to compile it.  \n",
        "    #self.generator.compile(loss=self.g_loss, optimizer=self.g_opt, metrics=['accuracy'])\n",
        "    self.discriminator.compile(loss=self.d_loss, optimizer=self.d_opt, metrics=['accuracy'])\n",
        "\n",
        "\n",
        "  # https://www.tensorflow.org/tutorials/generative/dcgan#define_the_training_loop\n",
        "  def train_step(self, batch):\n",
        "    # Get the data\n",
        "    real_images = batch\n",
        "    # TODO: use the common function generate_fake_data?\n",
        "    fake_images = self.generator(tf.random.normal((batch_size, self.latent_dim, 1)), training=False)\n",
        "\n",
        "    # Training : Discriminator\n",
        "    with tf.GradientTape() as d_tape:\n",
        "      # Pass the real and fake images to the discriminator\n",
        "      yhat_real = self.discriminator(real_images, training=True)\n",
        "      yhat_fake = self.discriminator(fake_images, training=True)\n",
        "      yhat_realfake = tf.concat([yhat_real, yhat_fake], axis=0)\n",
        "\n",
        "      # Create labels for the real and fake\n",
        "      # 0 = real\n",
        "      # 1 = fake\n",
        "      y_realfake = tf.concat([tf.zeros_like(yhat_real), tf.ones_like(yhat_fake)], axis=0)\n",
        "\n",
        "      # Add noise to the outputs.\n",
        "      # Add a bit of confusion in to the discriminator to avoid it being\n",
        "      # too good.\n",
        "      # -0.15 is from trial and error\n",
        "      noise_real = 0.15 * tf.random.uniform(tf.shape(yhat_real))\n",
        "      noise_fake = -0.15 * tf.random.uniform(tf.shape(yhat_fake))\n",
        "\n",
        "      y_realfake += tf.concat([noise_real, noise_fake], axis=0)\n",
        "                               \n",
        "      # Calculate loss\n",
        "      total_d_loss = self.d_loss(y_realfake, yhat_realfake)\n",
        "\n",
        "    # Apply backpropagation\n",
        "    dgrad = d_tape.gradient(total_d_loss, self.discriminator.trainable_variables)\n",
        "    self.d_opt.apply_gradients(zip(dgrad, self.discriminator.trainable_variables))\n",
        "\n",
        "\n",
        "    # Training : Generator\n",
        "    with tf.GradientTape() as g_tape:\n",
        "      # Generate some new images\n",
        "      gen_images = self.generator(tf.random.uniform((batch_size, self.latent_dim, 1)),training=True)\n",
        "      # Generate our predicted labels\n",
        "      predicted_labels = self.discriminator(gen_images, training=False)\n",
        "      # Tell the generator that we are right if the discriminator is \"wrong\",\n",
        "      # thinks that our images are real (label = 0)\n",
        "      total_g_loss = self.g_loss(tf.zeros_like(predicted_labels), predicted_labels)\n",
        "\n",
        "    ggrad = g_tape.gradient(total_g_loss, self.generator.trainable_variables)\n",
        "    self.g_opt.apply_gradients(zip(ggrad, self.generator.trainable_variables))\n",
        "    return {\"d_loss\":total_d_loss, \"g_loss\":total_g_loss}\n",
        "    \n"
      ],
      "metadata": {
        "id": "icIsVGtK42a0"
      },
      "execution_count": 32,
      "outputs": []
    },
    {
      "cell_type": "code",
      "source": [
        "def create_gan_model(latent_dim, g_opt_learning_rate=0.0001, d_opt_learning_rate=0.00001):\n",
        "  generator = build_generator_c2(latent_dim)\n",
        "  #generator.summary()\n",
        "\n",
        "  discriminator = build_discriminator_c2()\n",
        "  #discriminator.summary()\n",
        "\n",
        "  mobilegan = MobileGAN(generator, discriminator, latent_dim)\n",
        "\n",
        "  # Setup the losses and optimizers\n",
        "  g_opt = Adam(learning_rate=g_opt_learning_rate,  beta_1=0.5)\n",
        "  d_opt = Adam(learning_rate=d_opt_learning_rate,  beta_1=0.5)\n",
        "  g_loss = BinaryCrossentropy()\n",
        "  d_loss = BinaryCrossentropy()\n",
        "\n",
        "  mobilegan.compile(g_opt, d_opt, g_loss, d_loss)\n",
        "\n",
        "  return mobilegan"
      ],
      "metadata": {
        "id": "cYGLCZjH-UXT"
      },
      "execution_count": 33,
      "outputs": []
    },
    {
      "cell_type": "markdown",
      "source": [
        "## 8. Train"
      ],
      "metadata": {
        "id": "yFYIW91RAEVP"
      }
    },
    {
      "cell_type": "code",
      "source": [
        "!mkdir checkpoints"
      ],
      "metadata": {
        "colab": {
          "base_uri": "https://localhost:8080/"
        },
        "id": "JrhRNhGfPQJt",
        "outputId": "724d6489-e60a-46f6-8b16-ca7ff3806165"
      },
      "execution_count": 34,
      "outputs": [
        {
          "output_type": "stream",
          "name": "stdout",
          "text": [
            "mkdir: cannot create directory ‘checkpoints’: File exists\n"
          ]
        }
      ]
    },
    {
      "cell_type": "code",
      "source": [
        "# From somewhere Francois?\n",
        "\n",
        "class ModelMonitor(Callback):\n",
        "  def __init__(self, initial_epoch=0, num_images=3, latent_dim=128, checkpoints_dir=\"checkpoints\"):\n",
        "    self.initial_epoch = initial_epoch\n",
        "    self.num_images = num_images\n",
        "    self.latent_dim = latent_dim\n",
        "    self.checkpoints_dir = checkpoints_dir\n",
        "\n",
        "  def on_epoch_end(self, epoch, logs=None):\n",
        "    random_latent_vectors = tf.random.uniform((self.num_images, self.latent_dim, 1))\n",
        "    generated_images = self.model.generator(random_latent_vectors)\n",
        "    generated_images *= 255\n",
        "    generated_images.numpy()\n",
        "    logical_epoch = epoch + 1\n",
        "    \n",
        "    for i in range(self.num_images):\n",
        "      img = array_to_img(generated_images[i])\n",
        "      img.save(os.path.join(self.checkpoints_dir, f'sample_{logical_epoch:02d}_{i}.png'))\n"
      ],
      "metadata": {
        "id": "9RGVfE0X_CUo"
      },
      "execution_count": 35,
      "outputs": []
    },
    {
      "cell_type": "code",
      "source": [
        "import pickle \n",
        "\n",
        "class GANModelCheckpoint(Callback):\n",
        "  model_weights_suffix = 'model-weights-c2.hdf5'\n",
        "  training_state_filename = 'training-state.pkl'\n",
        "\n",
        "  \"\"\" Custom implementation of a checkpointer since the GAN model is a custom model.\"\"\"\n",
        "  def __init__(self, initial_epoch=0, epoch_interval=1, checkpoints_dir='checkpoints'):\n",
        "    self.last_epoch_saved = initial_epoch - 1\n",
        "    self.epoch_interval = epoch_interval\n",
        "    self.checkpoints_dir = checkpoints_dir\n",
        "\n",
        "  def save_optimizer(self, epoch):\n",
        "    output_file = os.path.join(self.checkpoints_dir, self.training_state_filename)\n",
        "    with open(output_file, 'wb') as f:\n",
        "      pickle.dump({\n",
        "          'd_opt': self.model.d_opt.get_config(),\n",
        "          'g_opt': self.model.g_opt.get_config(),\n",
        "          'epoch': epoch + 1\n",
        "      }, f, protocol=pickle.HIGHEST_PROTOCOL)\n",
        "\n",
        "    print(f'Saving state to {output_file}')\n",
        "\n",
        "  def save_model_weights(self, epoch):\n",
        "    g_model = self.model.generator\n",
        "    d_model = self.model.discriminator\n",
        "    next_epoch = epoch + 1\n",
        "    g_model.save(os.path.join(self.checkpoints_dir, f'generator-{next_epoch:02d}-{self.model_weights_suffix}'))\n",
        "    d_model.save(os.path.join(self.checkpoints_dir, f'discriminator-{next_epoch:02d}-{self.model_weights_suffix}')) \n",
        "    g_model.save(os.path.join(self.checkpoints_dir, f'generator-{self.model_weights_suffix}'))\n",
        "    d_model.save(os.path.join(self.checkpoints_dir, f'discriminator-{self.model_weights_suffix}'))\n",
        "\n",
        "  def on_epoch_end(self, epoch, logs=None):\n",
        "    print()\n",
        "    print(f'Epoch ended: {epoch} (last saved: {self.last_epoch_saved}, interval: {self.epoch_interval})')\n",
        "    should_save = False\n",
        "    if epoch >= self.last_epoch_saved + self.epoch_interval:\n",
        "      should_save = True\n",
        "\n",
        "    if should_save:\n",
        "      print('Saving state...')\n",
        "      self.save_optimizer(epoch)\n",
        "      self.save_model_weights(epoch)\n",
        "      self.last_epoch_saved = epoch\n",
        "\n",
        "  def on_train_end(self, logs=None):\n",
        "    self.save_optimizer(self.params['epochs'])\n",
        "    self.save_model_weights(self.params['epochs'])\n",
        "\n"
      ],
      "metadata": {
        "id": "Ymep3s8tV58m"
      },
      "execution_count": 36,
      "outputs": []
    },
    {
      "cell_type": "code",
      "source": [
        "# Create a checkpointer that we can use to resume if the training is terminated.\n",
        "# Saves at every epoch\n",
        "#\n",
        "# https://machinelearningmastery.com/check-point-deep-learning-models-keras/\n",
        "\n",
        "def load_weights(model, checkpoints_dir='checkpoints'):\n",
        "  g_model_weights = f'generator-{GANModelCheckpoint.model_weights_suffix}'\n",
        "  d_model_weights = f'discriminator-{GANModelCheckpoint.model_weights_suffix}'\n",
        "  training_state_filename = GANModelCheckpoint.training_state_filename\n",
        "  state = {'epoch': 0}\n",
        "\n",
        "  training_state_path = os.path.join(checkpoints_dir, training_state_filename)\n",
        "  if not os.path.exists(training_state_path):\n",
        "    return state\n",
        "\n",
        "  with open(training_state_path, 'rb') as f:\n",
        "    state = pickle.load(f)\n",
        "    print('Loading state', state)\n",
        "    model.d_opt = Adam.from_config(state['d_opt'])\n",
        "    model.g_opt = Adam.from_config(state['g_opt'])\n",
        "\n",
        "  g_model_weights_path = os.path.join(checkpoints_dir, g_model_weights)\n",
        "  if os.path.exists(g_model_weights_path):\n",
        "    model.generator.load_weights(g_model_weights_path)\n",
        "\n",
        "  d_model_weights_path = os.path.join(checkpoints_dir, d_model_weights)\n",
        "\n",
        "  if os.path.exists(d_model_weights_path):\n",
        "    model.discriminator.load_weights(d_model_weights_path)\n",
        "\n",
        "  model.compile_submodels()\n",
        "\n",
        "  return state\n",
        "\n",
        "\n",
        "def resume_train_gan(model, \n",
        "                     initial_epoch=0, \n",
        "                     epochs=200, \n",
        "                     epochs_per_checkpoint=2, \n",
        "                     checkpoints_dir='checkpoints'):\n",
        "  \"\"\"Start or resume training the GAN.\"\"\"\n",
        "  callbacks = [\n",
        "      ModelMonitor(initial_epoch=initial_epoch, \n",
        "                   checkpoints_dir=checkpoints_dir), \n",
        "      GANModelCheckpoint(initial_epoch=initial_epoch, \n",
        "                         epoch_interval=epochs_per_checkpoint, \n",
        "                         checkpoints_dir=checkpoints_dir)\n",
        "  ]\n",
        "  hist = model.fit(ds, epochs=epochs, initial_epoch=initial_epoch, callbacks=callbacks)  \n",
        "  return hist\n",
        "\n"
      ],
      "metadata": {
        "id": "vBBK_SAISlms"
      },
      "execution_count": 37,
      "outputs": []
    },
    {
      "cell_type": "code",
      "source": [
        "latent_dim = 128\n",
        "\n",
        "def start_or_resume(checkpoints_dir=\"checkpoints\"):\n",
        "  d_opt_lr = 0.00002 # learning rates\n",
        "  g_opt_lr = d_opt_lr * 100\n",
        "  gan_model = create_gan_model(latent_dim, \n",
        "                               g_opt_learning_rate=g_opt_lr, \n",
        "                               d_opt_learning_rate=d_opt_lr)\n",
        "  state = load_weights(gan_model, checkpoints_dir=checkpoints_dir)\n",
        "  hist = resume_train_gan(gan_model, \n",
        "                          initial_epoch=state['epoch'], \n",
        "                          epochs=200, \n",
        "                          epochs_per_checkpoint=5,\n",
        "                          checkpoints_dir=checkpoints_dir)\n",
        "  return hist\n",
        "\n",
        "hist = start_or_resume(checkpoints_dir=CHECKPOINTS_DIR)"
      ],
      "metadata": {
        "colab": {
          "base_uri": "https://localhost:8080/"
        },
        "id": "yWDwqHGV_y9i",
        "outputId": "cf27b909-b774-4344-e11f-a9b9cb23e341"
      },
      "execution_count": null,
      "outputs": [
        {
          "output_type": "stream",
          "name": "stdout",
          "text": [
            "Epoch 1/200\n",
            " 25/193 [==>...........................] - ETA: 1:23 - d_loss: 0.7571 - g_loss: 0.3886"
          ]
        }
      ]
    },
    {
      "cell_type": "code",
      "source": [
        "def clear_history(dir):\n",
        "  files = os.listdir(dir)\n",
        "  for f in files:\n",
        "    if f.endswith('hdf5'):\n",
        "      print(f'Deleteing {f}')\n",
        "      os.remove(os.path.join(dir, f))\n",
        "    if f.endswith('pkl'):\n",
        "      os.remove(os.path.join(dir, f))\n",
        "\n",
        "# clear_history('.')"
      ],
      "metadata": {
        "id": "CFUvsLcwN5Y5"
      },
      "execution_count": 146,
      "outputs": []
    },
    {
      "cell_type": "code",
      "source": [
        "plt.plot(hist.history['d_loss'], label='d_loss')\n",
        "plt.plot(hist.history['g_loss'], label='g_loss')\n",
        "plt.legend()\n",
        "plt.show()"
      ],
      "metadata": {
        "colab": {
          "base_uri": "https://localhost:8080/",
          "height": 265
        },
        "id": "0GKT0lfy8dAG",
        "outputId": "ecb34f8f-31b1-4bfd-dfb1-dbed6288394a"
      },
      "execution_count": 42,
      "outputs": [
        {
          "output_type": "display_data",
          "data": {
            "text/plain": [
              "<Figure size 432x288 with 1 Axes>"
            ],
            "image/png": "[encoded data removed]"
          },
          "metadata": {
            "needs_background": "light"
          }
        }
      ]
    },
    {
      "cell_type": "code",
      "source": [
        "def test_model():\n",
        "  latent_dim = 128\n",
        "  gan_model = create_gan_model(latent_dim)\n",
        "\n",
        "  checkpoints_dir = \"checkpoints\"\n",
        "  state = load_weights(gan_model, checkpoints_dir=checkpoints_dir)\n",
        "\n",
        "  img_count = 4\n",
        "  imgs = generate_fake_samples(gan_model.generator, latent_dim, img_count)\n",
        "  fig, ax = plt.subplots(ncols=img_count, figsize=(20, 10))\n",
        "  for i, img in enumerate(imgs):\n",
        "    ax[i].imshow(np.squeeze(img))\n",
        "\n",
        "test_model()    "
      ],
      "metadata": {
        "colab": {
          "base_uri": "https://localhost:8080/",
          "height": 514
        },
        "id": "VNYTMyrJD8A9",
        "outputId": "e55525df-5ee8-4f55-fe62-a3955fb4d0b8"
      },
      "execution_count": 183,
      "outputs": [
        {
          "output_type": "stream",
          "name": "stdout",
          "text": [
            "Loading state {'d_opt': {'name': 'Adam', 'learning_rate': 1e-05, 'decay': 0.0, 'beta_1': 0.9, 'beta_2': 0.999, 'epsilon': 1e-07, 'amsgrad': False}, 'g_opt': {'name': 'Adam', 'learning_rate': 1e-04, 'decay': 0.0, 'beta_1': 0.9, 'beta_2': 0.999, 'epsilon': 1e-07, 'amsgrad': False}, 'epoch': 15}\n"
          ]
        },
        {
          "output_type": "display_data",
          "data": {
            "text/plain": [
              "<Figure size 1440x720 with 4 Axes>"
            ],
            "image/png": "[encoded data removed]"
          },
          "metadata": {
            "needs_background": "light"
          }
        }
      ]
    },
    {
      "cell_type": "markdown",
      "source": [
        "## 9. Load and Save"
      ],
      "metadata": {
        "id": "UrU0W3PWGxMz"
      }
    },
    {
      "cell_type": "code",
      "source": [
        "generator_model_filename = 'generator.pb'\n",
        "discriminator_model_filename = 'discriminator.pb'\n",
        "\n",
        "def reload_models(dirname):\n",
        "  g_model_loaded = load_model(os.path.join(dirname, generator_model_filename))\n",
        "  d_model_loaded = load_model(os.path.join(dirname, discriminator_model_filename))\n",
        "  return {\"discriminator\": d_model_loaded, \"generator\": g_model_loaded}\n",
        "\n",
        "def save_models(dirname, g_model, d_model):\n",
        "  try:\n",
        "    os.mkdir(dirname)\n",
        "  except:\n",
        "    pass\n",
        "\n",
        "  g_model.save(os.path.join(dirname, generator_model_filename))\n",
        "  d_model.save(os.path.join(dirname, discriminator_model_filename))\n",
        "\n"
      ],
      "metadata": {
        "id": "vhVsj4cyFcyU"
      },
      "execution_count": 60,
      "outputs": []
    },
    {
      "cell_type": "code",
      "source": [
        "save_models('model-c2', generator, discriminator)"
      ],
      "metadata": {
        "colab": {
          "base_uri": "https://localhost:8080/"
        },
        "id": "oGqyitwzKDTe",
        "outputId": "ef792180-9f28-4534-93f4-45604a7cef73"
      },
      "execution_count": 61,
      "outputs": [
        {
          "output_type": "stream",
          "name": "stderr",
          "text": [
            "WARNING:tensorflow:Compiled the loaded model, but the compiled metrics have yet to be built. `model.compile_metrics` will be empty until you train or evaluate the model.\n",
            "WARNING:tensorflow:Compiled the loaded model, but the compiled metrics have yet to be built. `model.compile_metrics` will be empty until you train or evaluate the model.\n"
          ]
        }
      ]
    },
    {
      "cell_type": "code",
      "source": [
        "loaded = reload_models('model-c2')"
      ],
      "metadata": {
        "colab": {
          "base_uri": "https://localhost:8080/"
        },
        "id": "JQSJpy5KKhlw",
        "outputId": "58606019-ec56-4277-a36a-302571d74122"
      },
      "execution_count": 56,
      "outputs": [
        {
          "output_type": "stream",
          "name": "stderr",
          "text": [
            "WARNING:tensorflow:No training configuration found in the save file, so the model was *not* compiled. Compile it manually.\n",
            "WARNING:tensorflow:No training configuration found in the save file, so the model was *not* compiled. Compile it manually.\n"
          ]
        }
      ]
    },
    {
      "cell_type": "code",
      "source": [
        "loaded_generator = loaded[\"generator\"]\n",
        "loaded_discriminator = loaded[\"discriminator\"]"
      ],
      "metadata": {
        "id": "uB5xNuwhLWvs"
      },
      "execution_count": 62,
      "outputs": []
    },
    {
      "cell_type": "code",
      "source": [
        "generate_and_show(loaded_generator)"
      ],
      "metadata": {
        "colab": {
          "base_uri": "https://localhost:8080/",
          "height": 476
        },
        "id": "tNXsktIaL7MQ",
        "outputId": "420563ce-6bee-4a36-afa6-beb0b95c2428"
      },
      "execution_count": 59,
      "outputs": [
        {
          "output_type": "display_data",
          "data": {
            "text/plain": [
              "<Figure size 1440x720 with 4 Axes>"
            ],
            "image/png": "[encoded data removed]"
          },
          "metadata": {
            "needs_background": "light"
          }
        }
      ]
    },
    {
      "cell_type": "markdown",
      "source": [
        "## 10. Resume Training"
      ],
      "metadata": {
        "id": "U92P8CIvOF2G"
      }
    },
    {
      "cell_type": "code",
      "source": [
        "mobilegan_resumed = MobileGAN(loaded_generator, loaded_discriminator, latent_dim)\n",
        "mobilegan_resumed.compile(g_opt, d_opt, g_loss, d_loss)\n",
        "hist_resumed = mobilegan_resumed.fit(ds, epochs=10, callbacks=[ModelMonitor(prefix=\"run_2\")])"
      ],
      "metadata": {
        "colab": {
          "base_uri": "https://localhost:8080/"
        },
        "id": "4xeS8ZyBL9If",
        "outputId": "ce48d2ff-aa43-4518-f487-df699d6e4f8f"
      },
      "execution_count": 66,
      "outputs": [
        {
          "output_type": "stream",
          "name": "stdout",
          "text": [
            "Epoch 1/10\n",
            "193/193 [==============================] - 101s 498ms/step - d_loss: 0.3074 - g_loss: 1.4297\n",
            "Epoch 2/10\n",
            "193/193 [==============================] - 99s 494ms/step - d_loss: 0.2915 - g_loss: 1.7241\n",
            "Epoch 3/10\n",
            "193/193 [==============================] - 100s 499ms/step - d_loss: 0.2845 - g_loss: 1.9393\n",
            "Epoch 4/10\n",
            "193/193 [==============================] - 99s 496ms/step - d_loss: 0.2807 - g_loss: 2.1053\n",
            "Epoch 5/10\n",
            "193/193 [==============================] - 104s 519ms/step - d_loss: 0.2786 - g_loss: 2.2255\n",
            "Epoch 6/10\n",
            "193/193 [==============================] - 119s 600ms/step - d_loss: 0.2775 - g_loss: 2.2977\n",
            "Epoch 7/10\n",
            "193/193 [==============================] - 104s 522ms/step - d_loss: 0.2780 - g_loss: 2.3549\n",
            "Epoch 8/10\n",
            "193/193 [==============================] - 106s 529ms/step - d_loss: 0.2752 - g_loss: 2.3958\n",
            "Epoch 9/10\n",
            "193/193 [==============================] - 124s 622ms/step - d_loss: 0.2754 - g_loss: 2.4226\n",
            "Epoch 10/10\n",
            "193/193 [==============================] - 129s 638ms/step - d_loss: 0.2752 - g_loss: 2.4546\n"
          ]
        }
      ]
    },
    {
      "cell_type": "code",
      "source": [
        "generate_and_show(mobilegan_resumed.generator)"
      ],
      "metadata": {
        "colab": {
          "base_uri": "https://localhost:8080/",
          "height": 454
        },
        "id": "GpUtBNrLOYVd",
        "outputId": "7b474dac-4afb-4c63-dd9c-f9f114504ceb"
      },
      "execution_count": 68,
      "outputs": [
        {
          "output_type": "display_data",
          "data": {
            "text/plain": [
              "<Figure size 1440x720 with 4 Axes>"
            ],
            "image/png": "[encoded data removed]"
          },
          "metadata": {
            "needs_background": "light"
          }
        }
      ]
    },
    {
      "cell_type": "code",
      "source": [
        ""
      ],
      "metadata": {
        "id": "JunvihZlX6SE"
      },
      "execution_count": null,
      "outputs": []
    }
  ]
}